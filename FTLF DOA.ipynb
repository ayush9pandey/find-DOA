{
 "cells": [
  {
   "cell_type": "markdown",
   "metadata": {},
   "source": [
    "# Python code for domain of attraction estimate using a finite-time Lyapunov function (FTLF)\n",
    "\n",
    "## The method is described in detail in the following paper: \n",
    "\n",
    "Pandey, Ayush, and Aaron D. Ames. \"On a Converse theorem for Finite-time Lyapunov Functions to Estimate Domains of Attraction.\" 2020 American Control Conference (ACC). IEEE, 2020."
   ]
  },
  {
   "cell_type": "markdown",
   "metadata": {},
   "source": [
    "## Load your model equations as a Python function. In this notebook, we will use the toggle switch dynamics as an example."
   ]
  },
  {
   "cell_type": "markdown",
   "metadata": {},
   "source": [
    "### The reduced toggle switch model"
   ]
  },
  {
   "cell_type": "code",
   "execution_count": 1,
   "metadata": {},
   "outputs": [],
   "source": [
    "import numpy as np\n",
    "# Toggle switch model\n",
    "def f(x,*args):\n",
    "    y = np.zeros(2)\n",
    "    alpha1, alpha2, beta, gamma = args \n",
    "    pt_dot =  alpha1/(1 + x[1]**beta) - x[0]\n",
    "    pl_dot = alpha2/(1 + x[0]**gamma) - x[1]\n",
    "    y = np.array([pt_dot, pl_dot])\n",
    "    return y"
   ]
  },
  {
   "cell_type": "markdown",
   "metadata": {},
   "source": [
    "### Find all equilibrium points"
   ]
  },
  {
   "cell_type": "code",
   "execution_count": 2,
   "metadata": {},
   "outputs": [
    {
     "name": "stdout",
     "output_type": "stream",
     "text": [
      "Unstable equilibrium is E1 = [0.88066277 0.78088053]\n",
      "Stable equilibrium #1 is E2 = [1.29959444 0.06782925]\n",
      "Stable equilibrium #2 is E3 = [0.66679013 0.98292302]\n"
     ]
    }
   ],
   "source": [
    "from scipy.optimize import fsolve\n",
    "# Parameters\n",
    "alpha1 = 1.3\n",
    "alpha2 = 1\n",
    "beta = 3\n",
    "gamma = 10\n",
    "\n",
    "params = tuple([alpha1, alpha2, beta, gamma])\n",
    "# Find equilibrium points (two stable, one unstable) E_i\n",
    "n = 2\n",
    "x0 = [0, 0]\n",
    "E1 = fsolve(f, x0, args = params)\n",
    "print('Unstable equilibrium is E1 = {0}'.format(E1))\n",
    "x0 = [100, 0]\n",
    "E2 = fsolve(f, x0, args = params)\n",
    "print('Stable equilibrium #1 is E2 = {0}'.format(E2))\n",
    "x0 = [0, 100]\n",
    "E3 = fsolve(f, x0, args = params)\n",
    "print('Stable equilibrium #2 is E3 = {0}'.format(E3))\n",
    "\n"
   ]
  },
  {
   "cell_type": "markdown",
   "metadata": {},
   "source": [
    "## Shift equilibrium to zero"
   ]
  },
  {
   "cell_type": "code",
   "execution_count": 3,
   "metadata": {},
   "outputs": [],
   "source": [
    "# Shifted equilibrium to zero dynamics\n",
    "def fs(x,*args):\n",
    "    y = np.zeros(2)\n",
    "    alpha1, alpha2, beta, gamma, E = args \n",
    "    pt_dot =  alpha1/(1 + (x[1] + E[1])**beta) - (x[0] + E[0])\n",
    "    pl_dot = alpha2/(1 + (x[0] + E[0])**gamma) - (x[1] + E[1])\n",
    "    y = np.array([pt_dot, pl_dot])\n",
    "    return y"
   ]
  },
  {
   "cell_type": "code",
   "execution_count": 4,
   "metadata": {},
   "outputs": [
    {
     "name": "stdout",
     "output_type": "stream",
     "text": [
      "Unstable equilibrium is E1 = [-2.18034977e-15  3.01637020e-15]\n",
      "Stable equilibrium #1 is E2 = [-1.19100641e-13 -4.29527531e-13]\n",
      "Stable equilibrium #2 is E3 = [ 1.81848814e-14 -2.37463131e-14]\n"
     ]
    }
   ],
   "source": [
    "alpha1 = 1.3\n",
    "alpha2 = 1\n",
    "beta = 3\n",
    "gamma = 10\n",
    "\n",
    "params1 = tuple([alpha1, alpha2, beta, gamma, E1])\n",
    "params2 = tuple([alpha1, alpha2, beta, gamma, E2])\n",
    "params3 = tuple([alpha1, alpha2, beta, gamma, E3])\n",
    "# Find equilibrium points (two stable, one unstable) E_i\n",
    "n = 2\n",
    "x0 = [0, 0]\n",
    "E1s = fsolve(fs, x0, args = params1)\n",
    "print('Unstable equilibrium is E1 = {0}'.format(E1s))\n",
    "x0 = [100, 0]\n",
    "E2s = fsolve(fs, x0, args = params2)\n",
    "print('Stable equilibrium #1 is E2 = {0}'.format(E2s))\n",
    "\n",
    "x0 = [0, 100]\n",
    "E3s = fsolve(fs, x0, args = params3)\n",
    "print('Stable equilibrium #2 is E3 = {0}'.format(E3s))\n"
   ]
  },
  {
   "cell_type": "code",
   "execution_count": 5,
   "metadata": {},
   "outputs": [
    {
     "name": "stdout",
     "output_type": "stream",
     "text": [
      "The linearization at the unstable equilibrium is [[-1.         -1.09135581]\n",
      " [-1.94292451 -1.        ]] with eigen values [ 0.45616687 -2.45616687].\n",
      "The linearization at the stable equilibrium #1 is [[-1.         -0.01793196]\n",
      " [-0.48652444 -1.        ]] with eigen values [-0.90659585 -1.09340415].\n",
      "The linearization at the stable equilibrium #2 is [[-1.         -0.99127747]\n",
      " [-0.25173376 -1.        ]] with eigen values [-0.50046221 -1.49953779].\n",
      "The weighted P logarithm norm of A1 is (0.39587656574088426+2.2612132167271385e-17j)\n",
      "The weighted P logarithm norm of A2 is -0.7544222160167673\n",
      "The weighted P logarithm norm of A3 is -0.4170703298578222\n"
     ]
    }
   ],
   "source": [
    "E1s = np.array([0, 0])\n",
    "E2s = np.array([0, 0])\n",
    "E3s = np.array([0, 0])\n",
    "# Linearized dynamics\n",
    "import numdifftools as nd\n",
    "from scipy.linalg import norm, solve_continuous_lyapunov, sqrtm, inv, expm\n",
    "from numpy.linalg import eig\n",
    "f_ode = lambda xs: fs(xs, *np.array(params1))\n",
    "Dfx = nd.Jacobian(f_ode)\n",
    "A1 = Dfx(E1s)\n",
    "print('The linearization at the unstable equilibrium is {0} with eigen values {1}.'.format(A1, eig(A1)[0]))\n",
    "f_ode = lambda xs: fs(xs, *np.array(params2))\n",
    "Dfx = nd.Jacobian(f_ode)\n",
    "A2 = Dfx(E2s)\n",
    "print('The linearization at the stable equilibrium #1 is {0} with eigen values {1}.'.format(A2, eig(A2)[0]))\n",
    "f_ode = lambda xs: fs(xs, *np.array(params3))\n",
    "Dfx = nd.Jacobian(f_ode)\n",
    "A3 = Dfx(E3s)\n",
    "print('The linearization at the stable equilibrium #2 is {0} with eigen values {1}.'.format(A3, eig(A3)[0]))\n",
    "\n",
    "\n",
    "def weighted_mu(A, P):\n",
    "    wp = sqrtm(P)@A@inv(sqrtm(P))\n",
    "    mx = (1/2) * ( wp + wp.T )\n",
    "    return np.max(eig(mx)[0])\n",
    "\n",
    "def compute_d(A, P, dcs = np.linspace(5,0.1,100)):\n",
    "    flag = False\n",
    "    for dc in dcs:\n",
    "        wp = sqrtm(P)@expm(dc*A)@inv(sqrtm(P))\n",
    "        mx = (1/2) * (wp + wp.T)\n",
    "        if np.max(eig(mx)[0]) < 1:\n",
    "            d = dc\n",
    "            flag = True\n",
    "    if not flag:\n",
    "        print('No d found, terminating.')\n",
    "        return\n",
    "    return d\n",
    "\n",
    "# For A1\n",
    "I = np.identity(2)\n",
    "P1 = solve_continuous_lyapunov(A1.T, -I)\n",
    "# For A2\n",
    "P2 = solve_continuous_lyapunov(A2.T, -I)\n",
    "# For A3\n",
    "P3 = solve_continuous_lyapunov(A3.T, -I)\n",
    "\n",
    "# Compute logarithm norm\n",
    "    \n",
    "muA1 = weighted_mu(A1, P1)\n",
    "muA2 = weighted_mu(A2, P2)\n",
    "muA3 = weighted_mu(A3, P3)\n",
    "print('The weighted P logarithm norm of A1 is {0}'.format(muA1))\n",
    "print('The weighted P logarithm norm of A2 is {0}'.format(muA2))\n",
    "print('The weighted P logarithm norm of A3 is {0}'.format(muA3))\n",
    "# Iterate over d, to find a d that satisfies linear FTLF condition : norm(e^dA) < 1 (what's the best d?)\n",
    "\n",
    "    \n",
    "d2 = compute_d(A2,P2)\n",
    "d3 = compute_d(A3,P3)\n",
    "# d2 = 0.4\n",
    "# d3 = 1.2"
   ]
  },
  {
   "cell_type": "code",
   "execution_count": 7,
   "metadata": {},
   "outputs": [],
   "source": [
    "zeta2 = -1 * (np.exp(d2*muA2) - 1)\n",
    "zeta3 = -1 * (np.exp(d3*muA3) - 1)\n",
    "DOA_est2 = (d2 * muA2**2) / zeta2\n",
    "DOA_est3 = (d3 * muA3**2) / zeta3\n",
    "DOA_lin2 = 0.4# here\n",
    "DOA_lin3 = 0.15# here"
   ]
  },
  {
   "cell_type": "code",
   "execution_count": 8,
   "metadata": {},
   "outputs": [
    {
     "data": {
      "text/plain": [
       "0.78323764406099"
      ]
     },
     "execution_count": 8,
     "metadata": {},
     "output_type": "execute_result"
    }
   ],
   "source": [
    "DOA_est2"
   ]
  },
  {
   "cell_type": "code",
   "execution_count": 9,
   "metadata": {},
   "outputs": [
    {
     "data": {
      "image/png": "[encoded data removed]",
      "text/plain": [
       "<Figure size 432x288 with 1 Axes>"
      ]
     },
     "metadata": {
      "needs_background": "light"
     },
     "output_type": "display_data"
    }
   ],
   "source": [
    "import matplotlib.pyplot as plt\n",
    "plt.scatter(E1[0], E1[1], s = 10, c = 'k', marker = '+')\n",
    "plt.scatter(E2[0], E2[1], s = 10, c = 'r', marker = '*')\n",
    "plt.scatter(E3[0], E3[1], s = 10, c = 'b', marker = '*')\n",
    "doa_ball2 = plt.Circle(E2, 0.78, color='k', ls = '--', fill = False, clip_on = False)\n",
    "doa_ball3 = plt.Circle(E3, 0.315, color='k', ls = '--', fill = False, clip_on = False)\n",
    "doa_lin2 = plt.Circle(E2, DOA_lin2, color='r', fill = False, clip_on = False)\n",
    "doa_lin3 = plt.Circle(E3,DOA_lin3, color='blue', fill = False, clip_on = False)\n",
    "# fig, ax = plt.subplots() # note we must use plt.subplots, not plt.subplot\n",
    "# (or if you have an existing figure)\n",
    "fig = plt.gcf()\n",
    "ax = fig.gca()\n",
    "ax.set_xlim((0, 3))\n",
    "ax.set_ylim((-1, 2))\n",
    "\n",
    "ax.add_artist(doa_ball2)\n",
    "ax.add_artist(doa_ball3)\n",
    "ax.add_artist(doa_lin2)\n",
    "ax.add_artist(doa_lin3)\n",
    "ax.set_aspect('equal')\n",
    "plt.grid()\n",
    "plt.savefig('DOA_lin.svg')\n",
    "plt.show()"
   ]
  },
  {
   "cell_type": "code",
   "execution_count": 10,
   "metadata": {},
   "outputs": [
    {
     "ename": "TypeError",
     "evalue": "ufunc 'matmul' not supported for the input types, and the inputs could not be safely coerced to any supported types according to the casting rule ''safe''",
     "output_type": "error",
     "traceback": [
      "\u001b[1;31m---------------------------------------------------------------------------\u001b[0m",
      "\u001b[1;31mTypeError\u001b[0m                                 Traceback (most recent call last)",
      "\u001b[1;32m<ipython-input-10-54367bb3ae2c>\u001b[0m in \u001b[0;36m<module>\u001b[1;34m\u001b[0m\n\u001b[0;32m      7\u001b[0m \u001b[0mf2\u001b[0m \u001b[1;33m=\u001b[0m \u001b[0mnp\u001b[0m\u001b[1;33m.\u001b[0m\u001b[0marray\u001b[0m\u001b[1;33m(\u001b[0m\u001b[1;33m[\u001b[0m\u001b[0malpha1\u001b[0m\u001b[1;33m/\u001b[0m\u001b[1;33m(\u001b[0m\u001b[1;36m1\u001b[0m \u001b[1;33m+\u001b[0m \u001b[1;33m(\u001b[0m\u001b[0mx\u001b[0m\u001b[1;33m[\u001b[0m\u001b[1;36m1\u001b[0m\u001b[1;33m]\u001b[0m \u001b[1;33m+\u001b[0m \u001b[0mE2\u001b[0m\u001b[1;33m[\u001b[0m\u001b[1;36m1\u001b[0m\u001b[1;33m]\u001b[0m\u001b[1;33m)\u001b[0m\u001b[1;33m**\u001b[0m\u001b[0mbeta\u001b[0m\u001b[1;33m)\u001b[0m \u001b[1;33m-\u001b[0m \u001b[1;33m(\u001b[0m\u001b[0mx\u001b[0m\u001b[1;33m[\u001b[0m\u001b[1;36m0\u001b[0m\u001b[1;33m]\u001b[0m \u001b[1;33m+\u001b[0m \u001b[0mE2\u001b[0m\u001b[1;33m[\u001b[0m\u001b[1;36m0\u001b[0m\u001b[1;33m]\u001b[0m\u001b[1;33m)\u001b[0m\u001b[1;33m,\u001b[0m\u001b[0malpha2\u001b[0m\u001b[1;33m/\u001b[0m\u001b[1;33m(\u001b[0m\u001b[1;36m1\u001b[0m \u001b[1;33m+\u001b[0m \u001b[1;33m(\u001b[0m\u001b[0mx\u001b[0m\u001b[1;33m[\u001b[0m\u001b[1;36m0\u001b[0m\u001b[1;33m]\u001b[0m \u001b[1;33m+\u001b[0m \u001b[0mE2\u001b[0m\u001b[1;33m[\u001b[0m\u001b[1;36m0\u001b[0m\u001b[1;33m]\u001b[0m\u001b[1;33m)\u001b[0m\u001b[1;33m**\u001b[0m\u001b[0mgamma\u001b[0m\u001b[1;33m)\u001b[0m \u001b[1;33m-\u001b[0m \u001b[1;33m(\u001b[0m\u001b[0mx\u001b[0m\u001b[1;33m[\u001b[0m\u001b[1;36m1\u001b[0m\u001b[1;33m]\u001b[0m \u001b[1;33m+\u001b[0m \u001b[0mE2\u001b[0m\u001b[1;33m[\u001b[0m\u001b[1;36m1\u001b[0m\u001b[1;33m]\u001b[0m\u001b[1;33m)\u001b[0m\u001b[1;33m]\u001b[0m\u001b[1;33m)\u001b[0m\u001b[1;33m\u001b[0m\u001b[1;33m\u001b[0m\u001b[0m\n\u001b[0;32m      8\u001b[0m \u001b[0mf2\u001b[0m \u001b[1;33m=\u001b[0m \u001b[0mnp\u001b[0m\u001b[1;33m.\u001b[0m\u001b[0marray\u001b[0m\u001b[1;33m(\u001b[0m\u001b[1;33m[\u001b[0m\u001b[0malpha1\u001b[0m\u001b[1;33m/\u001b[0m\u001b[1;33m(\u001b[0m\u001b[1;36m1\u001b[0m \u001b[1;33m+\u001b[0m \u001b[1;33m(\u001b[0m\u001b[0mx\u001b[0m\u001b[1;33m[\u001b[0m\u001b[1;36m1\u001b[0m\u001b[1;33m]\u001b[0m \u001b[1;33m+\u001b[0m \u001b[0mE3\u001b[0m\u001b[1;33m[\u001b[0m\u001b[1;36m1\u001b[0m\u001b[1;33m]\u001b[0m\u001b[1;33m)\u001b[0m\u001b[1;33m**\u001b[0m\u001b[0mbeta\u001b[0m\u001b[1;33m)\u001b[0m \u001b[1;33m-\u001b[0m \u001b[1;33m(\u001b[0m\u001b[0mx\u001b[0m\u001b[1;33m[\u001b[0m\u001b[1;36m0\u001b[0m\u001b[1;33m]\u001b[0m \u001b[1;33m+\u001b[0m \u001b[0mE3\u001b[0m\u001b[1;33m[\u001b[0m\u001b[1;36m0\u001b[0m\u001b[1;33m]\u001b[0m\u001b[1;33m)\u001b[0m\u001b[1;33m,\u001b[0m\u001b[0malpha2\u001b[0m\u001b[1;33m/\u001b[0m\u001b[1;33m(\u001b[0m\u001b[1;36m1\u001b[0m \u001b[1;33m+\u001b[0m \u001b[1;33m(\u001b[0m\u001b[0mx\u001b[0m\u001b[1;33m[\u001b[0m\u001b[1;36m0\u001b[0m\u001b[1;33m]\u001b[0m \u001b[1;33m+\u001b[0m \u001b[0mE3\u001b[0m\u001b[1;33m[\u001b[0m\u001b[1;36m0\u001b[0m\u001b[1;33m]\u001b[0m\u001b[1;33m)\u001b[0m\u001b[1;33m**\u001b[0m\u001b[0mgamma\u001b[0m\u001b[1;33m)\u001b[0m \u001b[1;33m-\u001b[0m \u001b[1;33m(\u001b[0m\u001b[0mx\u001b[0m\u001b[1;33m[\u001b[0m\u001b[1;36m1\u001b[0m\u001b[1;33m]\u001b[0m \u001b[1;33m+\u001b[0m \u001b[0mE3\u001b[0m\u001b[1;33m[\u001b[0m\u001b[1;36m1\u001b[0m\u001b[1;33m]\u001b[0m\u001b[1;33m)\u001b[0m\u001b[1;33m]\u001b[0m\u001b[1;33m)\u001b[0m\u001b[1;33m\u001b[0m\u001b[1;33m\u001b[0m\u001b[0m\n\u001b[1;32m----> 9\u001b[1;33m \u001b[0mint_fun2\u001b[0m \u001b[1;33m=\u001b[0m \u001b[1;33m(\u001b[0m\u001b[0mx\u001b[0m \u001b[1;33m+\u001b[0m \u001b[0mt\u001b[0m\u001b[1;33m*\u001b[0m\u001b[0mf2\u001b[0m\u001b[1;33m)\u001b[0m\u001b[1;33m.\u001b[0m\u001b[0mT\u001b[0m\u001b[1;33m@\u001b[0m\u001b[0mP2\u001b[0m\u001b[1;33m@\u001b[0m\u001b[1;33m(\u001b[0m\u001b[0mx\u001b[0m\u001b[1;33m+\u001b[0m\u001b[0mt\u001b[0m\u001b[1;33m*\u001b[0m\u001b[0mf2\u001b[0m\u001b[1;33m)\u001b[0m\u001b[1;33m\u001b[0m\u001b[1;33m\u001b[0m\u001b[0m\n\u001b[0m\u001b[0;32m     10\u001b[0m \u001b[0mint_fun3\u001b[0m \u001b[1;33m=\u001b[0m \u001b[1;33m(\u001b[0m\u001b[0mx\u001b[0m \u001b[1;33m+\u001b[0m \u001b[0mt\u001b[0m\u001b[1;33m*\u001b[0m\u001b[0mf3\u001b[0m\u001b[1;33m)\u001b[0m\u001b[1;33m.\u001b[0m\u001b[0mT\u001b[0m\u001b[1;33m@\u001b[0m\u001b[0mP3\u001b[0m\u001b[1;33m@\u001b[0m\u001b[1;33m(\u001b[0m\u001b[0mx\u001b[0m\u001b[1;33m+\u001b[0m\u001b[0mt\u001b[0m\u001b[1;33m*\u001b[0m\u001b[0mf3\u001b[0m\u001b[1;33m)\u001b[0m\u001b[1;33m\u001b[0m\u001b[1;33m\u001b[0m\u001b[0m\n\u001b[0;32m     11\u001b[0m \u001b[0mWx2\u001b[0m \u001b[1;33m=\u001b[0m \u001b[0mquad\u001b[0m\u001b[1;33m(\u001b[0m\u001b[0mint_fun2\u001b[0m\u001b[1;33m,\u001b[0m \u001b[0mt\u001b[0m\u001b[1;33m,\u001b[0m \u001b[1;36m0\u001b[0m\u001b[1;33m,\u001b[0m \u001b[0md2\u001b[0m\u001b[1;33m)\u001b[0m\u001b[1;33m;\u001b[0m\u001b[1;33m\u001b[0m\u001b[1;33m\u001b[0m\u001b[0m\n",
      "\u001b[1;31mTypeError\u001b[0m: ufunc 'matmul' not supported for the input types, and the inputs could not be safely coerced to any supported types according to the casting rule ''safe''"
     ]
    }
   ],
   "source": [
    "from sympy import Symbol\n",
    "x1 = Symbol('x1')\n",
    "x2 = Symbol('x2')\n",
    "t = Symbol('t')\n",
    "\n",
    "x = np.array([x1,x2])\n",
    "f2 = np.array([alpha1/(1 + (x[1] + E2[1])**beta) - (x[0] + E2[0]),alpha2/(1 + (x[0] + E2[0])**gamma) - (x[1] + E2[1])])\n",
    "f2 = np.array([alpha1/(1 + (x[1] + E3[1])**beta) - (x[0] + E3[0]),alpha2/(1 + (x[0] + E3[0])**gamma) - (x[1] + E3[1])])\n",
    "int_fun2 = (x + t*f2).T@P2@(x+t*f2)\n",
    "int_fun3 = (x + t*f3).T@P3@(x+t*f3)\n",
    "Wx2 = quad(int_fun2, t, 0, d2);\n",
    "Wx3 = quad(int_fun3, t, 0, d3);\n",
    "gradWx21 = diff(Wx2, x1);\n",
    "gradWx22 = diff(Wx2, x2);\n",
    "gradWx31 = diff(Wx3, x1);\n",
    "gradWx32 = diff(Wx3, x2);\n",
    "gradWx2 = np.array([gradWx21, gradWx22])\n",
    "gradWx3 = np.array([gradWx31, gradWx32])\n",
    "Wdot2 = gradWx2.T@f2\n",
    "Wdot3 = gradWx3.T@f3"
   ]
  },
  {
   "cell_type": "code",
   "execution_count": null,
   "metadata": {},
   "outputs": [],
   "source": [
    "def find_DOA(eq_pt, P, d, params, unit, x_max, x_min, Cs, tol = 0.1):\n",
    "    dim = np.shape(eq_pt)[0]\n",
    "    assert unit > 0\n",
    "    assert np.shape(x_max)[0] == dim\n",
    "    assert np.shape(x_min)[0] == dim\n",
    "    x1_max = x_max[0]\n",
    "    x1_min = x_min[0]\n",
    "\n",
    "    x2_max = x_max[1]\n",
    "    x2_min = x_min[1]\n",
    "\n",
    "\n",
    "    start = eq_pt\n",
    "    x1_start = start[0]\n",
    "    x2_start = start[1]\n",
    "\n",
    "\n",
    "#     answer = np.zeros((abs(x1_max)+abs(x1_min),abs(x2_max) + abs(x2_min)))\n",
    "\n",
    "    #wdot(x, *args) is the function where x is the vector (x1, x2)\n",
    "    #unit is the step size\n",
    "\n",
    "\n",
    "#     answer[x1_start][x2_start] = 1\n",
    "    answer = {}\n",
    "    for C in Cs:\n",
    "        answer[C] = []\n",
    "        answer[C].append((x1_start, x2_start))\n",
    "        visited = [(x1_start, x2_start)]\n",
    "        while(len(visited) > 0 ):\n",
    "            (x1, x2) = visited.pop()\n",
    "            if x1 - unit >= x1_min  and Wdot.subs((np.array([x1 - unit, x2])) <= 0 and W.subs(np.array([x1 - unit, x2]) -C <= 0:\n",
    "                if not (x1 - unit, x2) in answer[C]:\n",
    "                    visited.append((x1-unit, x2))\n",
    "                    answer[C].append((x1 - unit,x2))\n",
    "            if x1 + unit >= x1_min  and Wdot.subs((np.array([x1 + unit, x2])) <= 0 and W.subs(np.array([x1 + unit, x2]) -C <= 0:\n",
    "                if not (x1 + unit, x2) in answer[C]:\n",
    "                    visited.append((x1+unit, x2))\n",
    "                    answer[C].append((x1 + unit,x2))\n",
    "            if x2 - unit >= x1_min  and Wdot.subs((np.array([x2 - unit, x2])) <= 0 and W.subs(np.array([x2 - unit, x2]) -C <= 0:\n",
    "                if not (x1, x2 - unit) in answer[C]:\n",
    "                    visited.append((x1, x2 - unit))\n",
    "                    answer[C].append((x1,x2 - unit))\n",
    "            if x2 + unit >= x1_min  and Wdot.subs((np.array([x2 + unit, x2])) <= 0 and W.subs(np.array([x2 + unit, x2]) -C <= 0:\n",
    "                if not (x1, x2+unit) in answer[C]:\n",
    "                    visited.append((x1, x2 + unit))\n",
    "                    answer[C].append((x1,x2 + unit))\n",
    "    return answer\n",
    "\n"
   ]
  },
  {
   "cell_type": "code",
   "execution_count": null,
   "metadata": {},
   "outputs": [],
   "source": [
    "\n",
    "x_max = [50,50]\n",
    "x_min = [-5,-5]\n",
    "answer = find_DOA(E2, P2, d2, params2, 0.1, x_max, x_min, np.linspace(0.1,0.15,5), tol = 1)\n",
    "answer = plot_DOA(E2, P2, 2, params2, 0.01, x_max, x_min, np.linspace(0.01,1.5,10000), tol = 0.1, plot_show = True)\n"
   ]
  },
  {
   "cell_type": "code",
   "execution_count": 11,
   "metadata": {},
   "outputs": [
    {
     "data": {
      "text/plain": [
       "array([[ 0.56189761, -0.12722404],\n",
       "       [-0.12722404,  0.50228138]])"
      ]
     },
     "execution_count": 11,
     "metadata": {},
     "output_type": "execute_result"
    }
   ],
   "source": [
    "P2"
   ]
  },
  {
   "cell_type": "code",
   "execution_count": 12,
   "metadata": {},
   "outputs": [],
   "source": [
    "from scipy.linalg import norm\n",
    "def Sd(x,E,r):\n",
    "#     % This function checks whether the given point (vector) x is inside a\n",
    "#     % ball of radius r with center at E. If inside, res will be negative. \n",
    "    res = norm(x - E, 2) - r;\n",
    "    return res"
   ]
  },
  {
   "cell_type": "code",
   "execution_count": 15,
   "metadata": {},
   "outputs": [],
   "source": [
    "from sympy import Symbol, Matrix\n",
    "from sympy import integrate\n",
    "C2 = 0.2\n",
    "C3 = 1.7\n",
    "\n",
    "x1s = np.linspace(-2,5,100)\n",
    "x2s = np.linspace(-2,5,100)\n",
    "\n",
    "pointsx = []\n",
    "pointsy = []\n",
    "pointsx3 = []\n",
    "pointsy3 = []\n",
    "\n",
    "# % Symbolically write down the toggle switch model so that we can perform\n",
    "# % integration to compute Wx as given by the formula in the paper equation\n",
    "# % (30)\n",
    "x1 = Symbol('x1')\n",
    "x2 = Symbol('x2')\n",
    "t = Symbol('t')\n",
    "x = [x1, x2]\n",
    "\n",
    "f2 = np.array([alpha1/(1 + (x[1] + E2[1])**beta) - (x[0] + E2[0]), alpha2/(1 + (x[0] + E2[0])**gamma) - (x[1] + E2[1])])\n",
    "f3 = np.array([alpha1/(1 + (x[1] + E3[1])**beta) - (x[0] + E3[0]), alpha2/(1 + (x[0] + E3[0])**gamma) - (x[1] + E3[1])])\n",
    "\n",
    "# % The function to integrate (see equation 30)\n",
    "int_fun2 = (Matrix(x + t*f2).T @ Matrix(P2)) @ Matrix(x+t*f2)\n",
    "\n",
    "int_fun3 = (Matrix(x + t*f3).T@Matrix(P3))@ Matrix(x+t*f3)\n",
    "\n",
    "\n",
    "Wx2 = integrate(int_fun2, (t, 0, d2) )\n",
    "Wx3 = integrate(int_fun3, (t, 0, d3) )\n",
    "def gradient(scalar_function, variables):\n",
    "    matrix_scalar_function = Matrix([scalar_function])\n",
    "    return matrix_scalar_function.jacobian(variables)\n",
    "\n",
    "\n",
    "gradWx2 = gradient(Wx2, x);\n",
    "gradWx3 = gradient(Wx3, x);\n"
   ]
  },
  {
   "cell_type": "code",
   "execution_count": 16,
   "metadata": {},
   "outputs": [],
   "source": [
    "\n",
    "d2 = 0.1\n",
    "d3 = 0.8\n",
    "\n",
    "# %% Compute radius of ball in d-invariant set\n",
    "# % Check Definition 4 in the paper \n",
    "zeta2 = -1 * (np.exp(d2*muA2) - 1)\n",
    "zeta3 = -1 * (np.exp(d3*muA3) - 1)\n",
    "dinv2 = (d2 * muA2**2) / zeta2\n",
    "dinv3 = (d3 * muA3**2) / zeta3\n",
    "r2 = dinv2 +0.05\n",
    "r3 = dinv3-0.2"
   ]
  },
  {
   "cell_type": "code",
   "execution_count": 17,
   "metadata": {},
   "outputs": [
    {
     "data": {
      "text/plain": [
       "(2, 1)"
      ]
     },
     "execution_count": 17,
     "metadata": {},
     "output_type": "execute_result"
    }
   ],
   "source": [
    "np.shape(Matrix(f2))"
   ]
  },
  {
   "cell_type": "code",
   "execution_count": 18,
   "metadata": {},
   "outputs": [
    {
     "ename": "AttributeError",
     "evalue": "'list' object has no attribute 'T'",
     "output_type": "error",
     "traceback": [
      "\u001b[1;31m---------------------------------------------------------------------------\u001b[0m",
      "\u001b[1;31mAttributeError\u001b[0m                            Traceback (most recent call last)",
      "\u001b[1;32m<ipython-input-18-2e34fa89bf7e>\u001b[0m in \u001b[0;36m<module>\u001b[1;34m\u001b[0m\n\u001b[0;32m     29\u001b[0m                 \u001b[0mpointsx3\u001b[0m \u001b[1;33m=\u001b[0m \u001b[1;33m[\u001b[0m\u001b[0mpointsx3\u001b[0m\u001b[1;33m,\u001b[0m \u001b[0mx1v\u001b[0m\u001b[1;33m]\u001b[0m\u001b[1;33m\u001b[0m\u001b[1;33m\u001b[0m\u001b[0m\n\u001b[0;32m     30\u001b[0m                 \u001b[0mpointsy3\u001b[0m \u001b[1;33m=\u001b[0m \u001b[1;33m[\u001b[0m\u001b[0mpointsy3\u001b[0m\u001b[1;33m,\u001b[0m \u001b[0mx2v\u001b[0m\u001b[1;33m]\u001b[0m\u001b[1;33m\u001b[0m\u001b[1;33m\u001b[0m\u001b[0m\n\u001b[1;32m---> 31\u001b[1;33m \u001b[0mpointsx\u001b[0m \u001b[1;33m=\u001b[0m \u001b[0mpointsx\u001b[0m\u001b[1;33m.\u001b[0m\u001b[0mT\u001b[0m\u001b[1;33m\u001b[0m\u001b[1;33m\u001b[0m\u001b[0m\n\u001b[0m\u001b[0;32m     32\u001b[0m \u001b[0mpointsy\u001b[0m \u001b[1;33m=\u001b[0m \u001b[0mpointsy\u001b[0m\u001b[1;33m.\u001b[0m\u001b[0mT\u001b[0m\u001b[1;33m\u001b[0m\u001b[1;33m\u001b[0m\u001b[0m\n\u001b[0;32m     33\u001b[0m \u001b[0mpointsx3\u001b[0m \u001b[1;33m=\u001b[0m \u001b[0mpointsx3\u001b[0m\u001b[1;33m.\u001b[0m\u001b[0mT\u001b[0m\u001b[1;33m\u001b[0m\u001b[1;33m\u001b[0m\u001b[0m\n",
      "\u001b[1;31mAttributeError\u001b[0m: 'list' object has no attribute 'T'"
     ]
    }
   ],
   "source": [
    "\n",
    "Wdot2 = gradWx2.T @ Matrix(f2).T\n",
    "Wdot3 = gradWx3.T @ Matrix(f3).T\n",
    "\n",
    "\n",
    "# %% Search algorithm to find DOAs:\n",
    "for i in range(len(x1s)):\n",
    "    x1v = x1s[i]\n",
    "    for j in range(len(x2s)):\n",
    "        x2v = x2s[j]\n",
    "        \n",
    "        Wx2s = Wx2.subs(x1, x1v)\n",
    "        Wx2ss = Wx2s.subs(x2, x2v)\n",
    "        \n",
    "        Wdot2s = Wdot2.subs(x1, x1v)\n",
    "        Wdot2ss = Wdot2s.subs(x2, x2v)\n",
    "        \n",
    "        Wx3s = Wx3.subs(x1, x1v)\n",
    "        Wx3ss = Wx3s.subs(x2, x2v)\n",
    "        \n",
    "        Wdot3s = Wdot3.subs(x1, x1v)\n",
    "        Wdot3ss = Wdot3s.subs(x2, x2v)\n",
    "        \n",
    "        if float(Wx2ss[0]) - C2 <= 0 and float(Wdot2ss[0]) <= 0:\n",
    "            if Sd([x1v,x2v], E2, r2) <= 0:\n",
    "                pointsx = [pointsx, x1v]\n",
    "                pointsy = [pointsy, x2v]\n",
    "        if float(Wx3ss[0]) - C3 <= 0 and float(Wdot3ss[0]) <= 0:\n",
    "            if Sd([x1v,x2v], E3, r3) <= 0:\n",
    "                pointsx3 = [pointsx3, x1v]\n",
    "                pointsy3 = [pointsy3, x2v]\n",
    "pointsx = pointsx.T\n",
    "pointsy = pointsy.T\n",
    "pointsx3 = pointsx3.T\n",
    "pointsy3 = pointsy3.T\n",
    "\n",
    "# k = boundary(pointsx,pointsy);\n",
    "# k3 = boundary(pointsx3,pointsy3);\n",
    "\n",
    "plt.plot(pointsx[k],pointsy[k],'b')\n",
    "plt.plot(pointsx3[k3],pointsy3[k3],'r')\n",
    "# % plot the d-invariant sets (uncomment, if needed)\n",
    "# % plot_circle(E2(1),E2(2),r2)\n",
    "# % plot_circle(E3(1),E3(2),r3)\n",
    "# % scatter(pointsx, pointsy)\n",
    "# plot(E1(1),E1(2),'kx')\n",
    "# plot(E2(1), E2(2), 'bo')\n",
    "# plot(E3(1), E3(2), 'ro')\n",
    "\n"
   ]
  },
  {
   "cell_type": "code",
   "execution_count": null,
   "metadata": {},
   "outputs": [],
   "source": [
    "r3"
   ]
  },
  {
   "cell_type": "code",
   "execution_count": null,
   "metadata": {},
   "outputs": [],
   "source": [
    "norm"
   ]
  },
  {
   "cell_type": "code",
   "execution_count": null,
   "metadata": {},
   "outputs": [],
   "source": []
  }
 ],
 "metadata": {
  "kernelspec": {
   "display_name": "Python 3",
   "language": "python",
   "name": "python3"
  },
  "language_info": {
   "codemirror_mode": {
    "name": "ipython",
    "version": 3
   },
   "file_extension": ".py",
   "mimetype": "text/x-python",
   "name": "python",
   "nbconvert_exporter": "python",
   "pygments_lexer": "ipython3",
   "version": "3.7.4"
  }
 },
 "nbformat": 4,
 "nbformat_minor": 2
}
