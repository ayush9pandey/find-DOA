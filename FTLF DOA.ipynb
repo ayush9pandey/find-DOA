{
 "cells": [
  {
   "cell_type": "markdown",
   "metadata": {},
   "source": [
    "### The reduced toggle switch model"
   ]
  },
  {
   "cell_type": "code",
   "execution_count": 70,
   "metadata": {},
   "outputs": [],
   "source": [
    "import numpy as np\n",
    "# Toggle switch model\n",
    "def f(x,*args):\n",
    "    y = np.zeros(2)\n",
    "    alpha1, alpha2, beta, gamma = args \n",
    "    pt_dot =  alpha1/(1 + x[1]**beta) - x[0]\n",
    "    pl_dot = alpha2/(1 + x[0]**gamma) - x[1]\n",
    "    y = np.array([pt_dot, pl_dot])\n",
    "    return y"
   ]
  },
  {
   "cell_type": "markdown",
   "metadata": {},
   "source": [
    "### Find all equilibrium points for reduced model"
   ]
  },
  {
   "cell_type": "code",
   "execution_count": 71,
   "metadata": {},
   "outputs": [
    {
     "name": "stdout",
     "output_type": "stream",
     "text": [
      "Unstable equilibrium is E1 = [0.88066277 0.78088053]\n",
      "Stable equilibrium #1 is E2 = [1.29959444 0.06782925]\n",
      "Stable equilibrium #2 is E3 = [0.66679013 0.98292302]\n"
     ]
    }
   ],
   "source": [
    "from scipy.optimize import fsolve\n",
    "# Parameters\n",
    "alpha1 = 1.3\n",
    "alpha2 = 1\n",
    "beta = 3\n",
    "gamma = 10\n",
    "\n",
    "params = tuple([alpha1, alpha2, beta, gamma])\n",
    "# Find equilibrium points (two stable, one unstable) E_i\n",
    "n = 2\n",
    "x0 = [0, 0]\n",
    "E1 = fsolve(f, x0, args = params)\n",
    "print('Unstable equilibrium is E1 = {0}'.format(E1))\n",
    "x0 = [100, 0]\n",
    "E2 = fsolve(f, x0, args = params)\n",
    "print('Stable equilibrium #1 is E2 = {0}'.format(E2))\n",
    "x0 = [0, 100]\n",
    "E3 = fsolve(f, x0, args = params)\n",
    "print('Stable equilibrium #2 is E3 = {0}'.format(E3))\n",
    "\n"
   ]
  },
  {
   "cell_type": "code",
   "execution_count": 72,
   "metadata": {},
   "outputs": [],
   "source": [
    "# Shifted equilibrium to zero dynamics\n",
    "def fs(x,*args):\n",
    "    y = np.zeros(2)\n",
    "    alpha1, alpha2, beta, gamma, E = args \n",
    "    pt_dot =  alpha1/(1 + (x[1] + E[1])**beta) - (x[0] + E[0])\n",
    "    pl_dot = alpha2/(1 + (x[0] + E[0])**gamma) - (x[1] + E[1])\n",
    "    y = np.array([pt_dot, pl_dot])\n",
    "    return y"
   ]
  },
  {
   "cell_type": "code",
   "execution_count": 73,
   "metadata": {},
   "outputs": [
    {
     "name": "stdout",
     "output_type": "stream",
     "text": [
      "Unstable equilibrium is E1 = [-2.18034977e-15  3.01637020e-15]\n",
      "Stable equilibrium #1 is E2 = [-1.19100641e-13 -4.29527531e-13]\n",
      "Stable equilibrium #2 is E3 = [ 1.81848814e-14 -2.37463131e-14]\n"
     ]
    }
   ],
   "source": [
    "alpha1 = 1.3\n",
    "alpha2 = 1\n",
    "beta = 3\n",
    "gamma = 10\n",
    "\n",
    "params1 = tuple([alpha1, alpha2, beta, gamma, E1])\n",
    "params2 = tuple([alpha1, alpha2, beta, gamma, E2])\n",
    "params3 = tuple([alpha1, alpha2, beta, gamma, E3])\n",
    "# Find equilibrium points (two stable, one unstable) E_i\n",
    "n = 2\n",
    "x0 = [0, 0]\n",
    "E1s = fsolve(fs, x0, args = params1)\n",
    "print('Unstable equilibrium is E1 = {0}'.format(E1s))\n",
    "x0 = [100, 0]\n",
    "E2s = fsolve(fs, x0, args = params2)\n",
    "print('Stable equilibrium #1 is E2 = {0}'.format(E2s))\n",
    "\n",
    "x0 = [0, 100]\n",
    "E3s = fsolve(fs, x0, args = params3)\n",
    "print('Stable equilibrium #2 is E3 = {0}'.format(E3s))\n"
   ]
  },
  {
   "cell_type": "code",
   "execution_count": 74,
   "metadata": {},
   "outputs": [
    {
     "name": "stdout",
     "output_type": "stream",
     "text": [
      "The linearization at the unstable equilibrium is [[-1.         -1.09135581]\n",
      " [-1.94292451 -1.        ]] with eigen values [ 0.45616687 -2.45616687].\n",
      "The linearization at the stable equilibrium #1 is [[-1.         -0.01793196]\n",
      " [-0.48652444 -1.        ]] with eigen values [-0.90659585 -1.09340415].\n",
      "The linearization at the stable equilibrium #2 is [[-1.         -0.99127747]\n",
      " [-0.25173376 -1.        ]] with eigen values [-0.50046221 -1.49953779].\n",
      "The weighted P logarithm norm of A1 is (0.3958765657408852+2.138468199826485e-17j)\n",
      "The weighted P logarithm norm of A2 is -0.7544222160167673\n",
      "The weighted P logarithm norm of A3 is -0.4170703298578222\n"
     ]
    }
   ],
   "source": [
    "E1s = np.array([0, 0])\n",
    "E2s = np.array([0, 0])\n",
    "E3s = np.array([0, 0])\n",
    "# Linearized dynamics\n",
    "import numdifftools as nd\n",
    "from scipy.linalg import norm, solve_continuous_lyapunov, sqrtm, inv, expm\n",
    "from numpy.linalg import eig\n",
    "f_ode = lambda xs: fs(xs, *np.array(params1))\n",
    "Dfx = nd.Jacobian(f_ode)\n",
    "A1 = Dfx(E1s)\n",
    "print('The linearization at the unstable equilibrium is {0} with eigen values {1}.'.format(A1, eig(A1)[0]))\n",
    "f_ode = lambda xs: fs(xs, *np.array(params2))\n",
    "Dfx = nd.Jacobian(f_ode)\n",
    "A2 = Dfx(E2s)\n",
    "print('The linearization at the stable equilibrium #1 is {0} with eigen values {1}.'.format(A2, eig(A2)[0]))\n",
    "f_ode = lambda xs: fs(xs, *np.array(params3))\n",
    "Dfx = nd.Jacobian(f_ode)\n",
    "A3 = Dfx(E3s)\n",
    "print('The linearization at the stable equilibrium #2 is {0} with eigen values {1}.'.format(A3, eig(A3)[0]))\n",
    "\n",
    "\n",
    "def weighted_mu(A, P):\n",
    "    wp = sqrtm(P)@A@inv(sqrtm(P))\n",
    "    mx = (1/2) * ( wp + wp.T )\n",
    "    return np.max(eig(mx)[0])\n",
    "\n",
    "def compute_d(A, P, dcs = np.linspace(5,0.1,100)):\n",
    "    flag = False\n",
    "    for dc in dcs:\n",
    "        wp = sqrtm(P)@expm(dc*A)@inv(sqrtm(P))\n",
    "        mx = (1/2) * (wp + wp.T)\n",
    "        if np.max(eig(mx)[0]) < 1:\n",
    "            d = dc\n",
    "            flag = True\n",
    "    if not flag:\n",
    "        print('No d found, terminating.')\n",
    "        return\n",
    "    return d\n",
    "\n",
    "# For A1\n",
    "I = np.identity(2)\n",
    "P1 = solve_continuous_lyapunov(A1.T, -I)\n",
    "# For A2\n",
    "P2 = solve_continuous_lyapunov(A2.T, -I)\n",
    "# For A3\n",
    "P3 = solve_continuous_lyapunov(A3.T, -I)\n",
    "\n",
    "# Compute logarithm norm\n",
    "    \n",
    "muA1 = weighted_mu(A1, P1)\n",
    "muA2 = weighted_mu(A2, P2)\n",
    "muA3 = weighted_mu(A3, P3)\n",
    "print('The weighted P logarithm norm of A1 is {0}'.format(muA1))\n",
    "print('The weighted P logarithm norm of A2 is {0}'.format(muA2))\n",
    "print('The weighted P logarithm norm of A3 is {0}'.format(muA3))\n",
    "# Iterate over d, to find a d that satisfies linear FTLF condition : norm(e^dA) < 1 (what's the best d?)\n",
    "\n",
    "    \n",
    "d2 = compute_d(A2,P2)\n",
    "d3 = compute_d(A3,P3)\n",
    "# d2 = 0.4\n",
    "# d3 = 1.2"
   ]
  },
  {
   "cell_type": "code",
   "execution_count": 75,
   "metadata": {},
   "outputs": [],
   "source": [
    "zeta2 = -1 * (np.exp(d2*muA2) - 1)\n",
    "zeta3 = -1 * (np.exp(d3*muA3) - 1)\n",
    "DOA_est2 = (d2 * muA2**2) / zeta2\n",
    "DOA_est3 = (d3 * muA3**2) / zeta3\n",
    "DOA_lin2 = # here\n",
    "DOA_lin3 = # here"
   ]
  },
  {
   "cell_type": "code",
   "execution_count": 105,
   "metadata": {},
   "outputs": [
    {
     "data": {
      "image/png": "[encoded data removed]",
      "text/plain": [
       "<Figure size 432x288 with 1 Axes>"
      ]
     },
     "metadata": {},
     "output_type": "display_data"
    }
   ],
   "source": [
    "import matplotlib.pyplot as plt\n",
    "plt.scatter(E1[0], E1[1], s = 10, c = 'k', marker = '+')\n",
    "plt.scatter(E2[0], E2[1], s = 10, c = 'r', marker = '*')\n",
    "plt.scatter(E3[0], E3[1], s = 10, c = 'b', marker = '*')\n",
    "doa_ball2 = plt.Circle(E2, DOA_est2 - 0.03, color='k', ls = '--', fill = False, clip_on = False)\n",
    "doa_ball3 = plt.Circle(E3, DOA_est3 - 0.19, color='k', ls = '--', fill = False, clip_on = False)\n",
    "doa_lin2 = plt.Circle(E2, DOA_lin2, color='r', fill = False, clip_on = False)\n",
    "doa_lin3 = plt.Circle(E3,DOA_lin3, color='blue', fill = False, clip_on = False)\n",
    "# fig, ax = plt.subplots() # note we must use plt.subplots, not plt.subplot\n",
    "# (or if you have an existing figure)\n",
    "fig = plt.gcf()\n",
    "ax = fig.gca()\n",
    "ax.set_xlim((0, 3))\n",
    "ax.set_ylim((-1, 2))\n",
    "\n",
    "ax.add_artist(doa_ball2)\n",
    "ax.add_artist(doa_ball3)\n",
    "ax.add_artist(doa_lin2)\n",
    "ax.add_artist(doa_lin3)\n",
    "ax.set_aspect('equal')\n",
    "plt.grid()\n",
    "plt.savefig('DOA_lin.svg')\n",
    "plt.show()"
   ]
  },
  {
   "cell_type": "code",
   "execution_count": 79,
   "metadata": {},
   "outputs": [],
   "source": [
    "from sympy import Symbol\n",
    "x1 = Symbol('x1')\n",
    "x2 = Symbol('x2')\n",
    "t = Symbol('t')\n",
    "\n",
    "x = np.array([x1,x2])\n",
    "f2 = np.array([alpha1/(1 + (x[1] + E2[1])**beta) - (x[0] + E2[0]),alpha2/(1 + (x[0] + E2[0])**gamma) - (x[1] + E2[1])])\n",
    "f2 = np.array([alpha1/(1 + (x[1] + E3[1])**beta) - (x[0] + E3[0]),alpha2/(1 + (x[0] + E3[0])**gamma) - (x[1] + E3[1])])\n",
    "int_fun2 = (x + t*f2).T@P2@(x+t*f2)\n",
    "int_fun3 = (x + t*f3).T@P3@(x+t*f3)\n",
    "Wx2 = quad(int_fun2, t, 0, d2);\n",
    "Wx3 = quad(int_fun3, t, 0, d3);\n",
    "gradWx21 = diff(Wx2, x1);\n",
    "gradWx22 = diff(Wx2, x2);\n",
    "gradWx31 = diff(Wx3, x1);\n",
    "gradWx32 = diff(Wx3, x2);\n",
    "gradWx2 = np.array([gradWx21, gradWx22])\n",
    "gradWx3 = np.array([gradWx31, gradWx32])\n",
    "Wdot2 = gradWx2.T@f2\n",
    "Wdot3 = gradWx3.T@f3"
   ]
  },
  {
   "cell_type": "code",
   "execution_count": 80,
   "metadata": {},
   "outputs": [],
   "source": [
    "def find_DOA(eq_pt, P, d, params, unit, x_max, x_min, Cs, tol = 0.1):\n",
    "    dim = np.shape(eq_pt)[0]\n",
    "    assert unit > 0\n",
    "    assert np.shape(x_max)[0] == dim\n",
    "    assert np.shape(x_min)[0] == dim\n",
    "    x1_max = x_max[0]\n",
    "    x1_min = x_min[0]\n",
    "\n",
    "    x2_max = x_max[1]\n",
    "    x2_min = x_min[1]\n",
    "\n",
    "\n",
    "    start = eq_pt\n",
    "    x1_start = start[0]\n",
    "    x2_start = start[1]\n",
    "\n",
    "\n",
    "#     answer = np.zeros((abs(x1_max)+abs(x1_min),abs(x2_max) + abs(x2_min)))\n",
    "\n",
    "    #wdot(x, *args) is the function where x is the vector (x1, x2)\n",
    "    #unit is the step size\n",
    "\n",
    "\n",
    "#     answer[x1_start][x2_start] = 1\n",
    "    answer = {}\n",
    "    for C in Cs:\n",
    "        answer[C] = []\n",
    "        answer[C].append((x1_start, x2_start))\n",
    "        visited = [(x1_start, x2_start)]\n",
    "        while(len(visited) > 0 ):\n",
    "            (x1, x2) = visited.pop()\n",
    "            if x1 - unit >= x1_min  and Wdot.subs((np.array([x1 - unit, x2])) <= 0 and W.subs(np.array([x1 - unit, x2]) -C <= 0:\n",
    "                if not (x1 - unit, x2) in answer[C]:\n",
    "                    visited.append((x1-unit, x2))\n",
    "                    answer[C].append((x1 - unit,x2))\n",
    "            if x1 + unit >= x1_min  and Wdot.subs((np.array([x1 + unit, x2])) <= 0 and W.subs(np.array([x1 + unit, x2]) -C <= 0:\n",
    "                if not (x1 + unit, x2) in answer[C]:\n",
    "                    visited.append((x1+unit, x2))\n",
    "                    answer[C].append((x1 + unit,x2))\n",
    "            if x2 - unit >= x1_min  and Wdot.subs((np.array([x2 - unit, x2])) <= 0 and W.subs(np.array([x2 - unit, x2]) -C <= 0:\n",
    "                if not (x1, x2 - unit) in answer[C]:\n",
    "                    visited.append((x1, x2 - unit))\n",
    "                    answer[C].append((x1,x2 - unit))\n",
    "            if x2 + unit >= x1_min  and Wdot.subs((np.array([x2 + unit, x2])) <= 0 and W.subs(np.array([x2 + unit, x2]) -C <= 0:\n",
    "                if not (x1, x2+unit) in answer[C]:\n",
    "                    visited.append((x1, x2 + unit))\n",
    "                    answer[C].append((x1,x2 + unit))\n",
    "    return answer\n",
    "\n"
   ]
  },
  {
   "cell_type": "code",
   "execution_count": 88,
   "metadata": {},
   "outputs": [],
   "source": [
    "\n",
    "x_max = [50,50]\n",
    "x_min = [-5,-5]\n",
    "answer = find_DOA(E2, P2, d2, params2, 0.1, x_max, x_min, np.linspace(0.1,0.15,5), tol = 1)\n",
    "answer = plot_DOA(E2, P2, 2, params2, 0.01, x_max, x_min, np.linspace(0.01,1.5,10000), tol = 0.1, plot_show = True)\n"
   ]
  }
 ],
 "metadata": {
  "kernelspec": {
   "display_name": "Python 3",
   "language": "python",
   "name": "python3"
  },
  "language_info": {
   "codemirror_mode": {
    "name": "ipython",
    "version": 3
   },
   "file_extension": ".py",
   "mimetype": "text/x-python",
   "name": "python",
   "nbconvert_exporter": "python",
   "pygments_lexer": "ipython3",
   "version": "3.6.5"
  }
 },
 "nbformat": 4,
 "nbformat_minor": 2
}
