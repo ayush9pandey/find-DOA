{
 "cells": [
  {
   "cell_type": "markdown",
   "metadata": {},
   "source": [
    "### The reduced toggle switch model"
   ]
  },
  {
   "cell_type": "code",
   "execution_count": 70,
   "metadata": {},
   "outputs": [],
   "source": [
    "import numpy as np\n",
    "# Toggle switch model\n",
    "def f(x,*args):\n",
    "    y = np.zeros(2)\n",
    "    alpha1, alpha2, beta, gamma = args \n",
    "    pt_dot =  alpha1/(1 + x[1]**beta) - x[0]\n",
    "    pl_dot = alpha2/(1 + x[0]**gamma) - x[1]\n",
    "    y = np.array([pt_dot, pl_dot])\n",
    "    return y"
   ]
  },
  {
   "cell_type": "markdown",
   "metadata": {},
   "source": [
    "### Find all equilibrium points for reduced model"
   ]
  },
  {
   "cell_type": "code",
   "execution_count": 71,
   "metadata": {},
   "outputs": [
    {
     "name": "stdout",
     "output_type": "stream",
     "text": [
      "Unstable equilibrium is E1 = [0.88066277 0.78088053]\n",
      "Stable equilibrium #1 is E2 = [1.29959444 0.06782925]\n",
      "Stable equilibrium #2 is E3 = [0.66679013 0.98292302]\n"
     ]
    }
   ],
   "source": [
    "from scipy.optimize import fsolve\n",
    "# Parameters\n",
    "alpha1 = 1.3\n",
    "alpha2 = 1\n",
    "beta = 3\n",
    "gamma = 10\n",
    "\n",
    "params = tuple([alpha1, alpha2, beta, gamma])\n",
    "# Find equilibrium points (two stable, one unstable) E_i\n",
    "n = 2\n",
    "x0 = [0, 0]\n",
    "E1 = fsolve(f, x0, args = params)\n",
    "print('Unstable equilibrium is E1 = {0}'.format(E1))\n",
    "x0 = [100, 0]\n",
    "E2 = fsolve(f, x0, args = params)\n",
    "print('Stable equilibrium #1 is E2 = {0}'.format(E2))\n",
    "x0 = [0, 100]\n",
    "E3 = fsolve(f, x0, args = params)\n",
    "print('Stable equilibrium #2 is E3 = {0}'.format(E3))\n",
    "\n"
   ]
  },
  {
   "cell_type": "code",
   "execution_count": 72,
   "metadata": {},
   "outputs": [],
   "source": [
    "# Shifted equilibrium to zero dynamics\n",
    "def fs(x,*args):\n",
    "    y = np.zeros(2)\n",
    "    alpha1, alpha2, beta, gamma, E = args \n",
    "    pt_dot =  alpha1/(1 + (x[1] + E[1])**beta) - (x[0] + E[0])\n",
    "    pl_dot = alpha2/(1 + (x[0] + E[0])**gamma) - (x[1] + E[1])\n",
    "    y = np.array([pt_dot, pl_dot])\n",
    "    return y"
   ]
  },
  {
   "cell_type": "code",
   "execution_count": 73,
   "metadata": {},
   "outputs": [
    {
     "name": "stdout",
     "output_type": "stream",
     "text": [
      "Unstable equilibrium is E1 = [-2.18034977e-15  3.01637020e-15]\n",
      "Stable equilibrium #1 is E2 = [-1.19100641e-13 -4.29527531e-13]\n",
      "Stable equilibrium #2 is E3 = [ 1.81848814e-14 -2.37463131e-14]\n"
     ]
    }
   ],
   "source": [
    "alpha1 = 1.3\n",
    "alpha2 = 1\n",
    "beta = 3\n",
    "gamma = 10\n",
    "\n",
    "params1 = tuple([alpha1, alpha2, beta, gamma, E1])\n",
    "params2 = tuple([alpha1, alpha2, beta, gamma, E2])\n",
    "params3 = tuple([alpha1, alpha2, beta, gamma, E3])\n",
    "# Find equilibrium points (two stable, one unstable) E_i\n",
    "n = 2\n",
    "x0 = [0, 0]\n",
    "E1s = fsolve(fs, x0, args = params1)\n",
    "print('Unstable equilibrium is E1 = {0}'.format(E1s))\n",
    "x0 = [100, 0]\n",
    "E2s = fsolve(fs, x0, args = params2)\n",
    "print('Stable equilibrium #1 is E2 = {0}'.format(E2s))\n",
    "\n",
    "x0 = [0, 100]\n",
    "E3s = fsolve(fs, x0, args = params3)\n",
    "print('Stable equilibrium #2 is E3 = {0}'.format(E3s))\n"
   ]
  },
  {
   "cell_type": "code",
   "execution_count": 74,
   "metadata": {},
   "outputs": [
    {
     "name": "stdout",
     "output_type": "stream",
     "text": [
      "The linearization at the unstable equilibrium is [[-1.         -1.09135581]\n",
      " [-1.94292451 -1.        ]] with eigen values [ 0.45616687 -2.45616687].\n",
      "The linearization at the stable equilibrium #1 is [[-1.         -0.01793196]\n",
      " [-0.48652444 -1.        ]] with eigen values [-0.90659585 -1.09340415].\n",
      "The linearization at the stable equilibrium #2 is [[-1.         -0.99127747]\n",
      " [-0.25173376 -1.        ]] with eigen values [-0.50046221 -1.49953779].\n",
      "The weighted P logarithm norm of A1 is (0.3958765657408852+2.138468199826485e-17j)\n",
      "The weighted P logarithm norm of A2 is -0.7544222160167673\n",
      "The weighted P logarithm norm of A3 is -0.4170703298578222\n"
     ]
    }
   ],
   "source": [
    "E1s = np.array([0, 0])\n",
    "E2s = np.array([0, 0])\n",
    "E3s = np.array([0, 0])\n",
    "# Linearized dynamics\n",
    "import numdifftools as nd\n",
    "from scipy.linalg import norm, solve_continuous_lyapunov, sqrtm, inv, expm\n",
    "from numpy.linalg import eig\n",
    "f_ode = lambda xs: fs(xs, *np.array(params1))\n",
    "Dfx = nd.Jacobian(f_ode)\n",
    "A1 = Dfx(E1s)\n",
    "print('The linearization at the unstable equilibrium is {0} with eigen values {1}.'.format(A1, eig(A1)[0]))\n",
    "f_ode = lambda xs: fs(xs, *np.array(params2))\n",
    "Dfx = nd.Jacobian(f_ode)\n",
    "A2 = Dfx(E2s)\n",
    "print('The linearization at the stable equilibrium #1 is {0} with eigen values {1}.'.format(A2, eig(A2)[0]))\n",
    "f_ode = lambda xs: fs(xs, *np.array(params3))\n",
    "Dfx = nd.Jacobian(f_ode)\n",
    "A3 = Dfx(E3s)\n",
    "print('The linearization at the stable equilibrium #2 is {0} with eigen values {1}.'.format(A3, eig(A3)[0]))\n",
    "\n",
    "\n",
    "def weighted_mu(A, P):\n",
    "    wp = sqrtm(P)@A@inv(sqrtm(P))\n",
    "    mx = (1/2) * ( wp + wp.T )\n",
    "    return np.max(eig(mx)[0])\n",
    "\n",
    "def compute_d(A, P, dcs = np.linspace(5,0.1,100)):\n",
    "    flag = False\n",
    "    for dc in dcs:\n",
    "        wp = sqrtm(P)@expm(dc*A)@inv(sqrtm(P))\n",
    "        mx = (1/2) * (wp + wp.T)\n",
    "        if np.max(eig(mx)[0]) < 1:\n",
    "            d = dc\n",
    "            flag = True\n",
    "    if not flag:\n",
    "        print('No d found, terminating.')\n",
    "        return\n",
    "    return d\n",
    "\n",
    "# For A1\n",
    "I = np.identity(2)\n",
    "P1 = solve_continuous_lyapunov(A1.T, -I)\n",
    "# For A2\n",
    "P2 = solve_continuous_lyapunov(A2.T, -I)\n",
    "# For A3\n",
    "P3 = solve_continuous_lyapunov(A3.T, -I)\n",
    "\n",
    "# Compute logarithm norm\n",
    "    \n",
    "muA1 = weighted_mu(A1, P1)\n",
    "muA2 = weighted_mu(A2, P2)\n",
    "muA3 = weighted_mu(A3, P3)\n",
    "print('The weighted P logarithm norm of A1 is {0}'.format(muA1))\n",
    "print('The weighted P logarithm norm of A2 is {0}'.format(muA2))\n",
    "print('The weighted P logarithm norm of A3 is {0}'.format(muA3))\n",
    "# Iterate over d, to find a d that satisfies linear FTLF condition : norm(e^dA) < 1 (what's the best d?)\n",
    "\n",
    "    \n",
    "d2 = compute_d(A2,P2)\n",
    "d3 = compute_d(A3,P3)\n",
    "# d2 = 0.4\n",
    "# d3 = 1.2"
   ]
  },
  {
   "cell_type": "code",
   "execution_count": 75,
   "metadata": {},
   "outputs": [],
   "source": [
    "zeta2 = -1 * (np.exp(d2*muA2) - 1)\n",
    "zeta3 = -1 * (np.exp(d3*muA3) - 1)\n",
    "DOA_est2 = (d2 * muA2**2) / zeta2\n",
    "DOA_est3 = (d3 * muA3**2) / zeta3\n"
   ]
  },
  {
   "cell_type": "code",
   "execution_count": 105,
   "metadata": {},
   "outputs": [
    {
     "data": {
      "image/png": "[encoded data removed]",
      "text/plain": [
       "<Figure size 432x288 with 1 Axes>"
      ]
     },
     "metadata": {},
     "output_type": "display_data"
    }
   ],
   "source": [
    "import matplotlib.pyplot as plt\n",
    "plt.scatter(E1[0], E1[1], s = 10, c = 'k', marker = '+')\n",
    "plt.scatter(E2[0], E2[1], s = 10, c = 'r', marker = '*')\n",
    "plt.scatter(E3[0], E3[1], s = 10, c = 'b', marker = '*')\n",
    "doa_ball2 = plt.Circle(E2, DOA_est2 - 0.03, color='k', ls = '--', fill = False, clip_on = False)\n",
    "doa_ball3 = plt.Circle(E3, DOA_est3 - 0.19, color='k', ls = '--', fill = False, clip_on = False)\n",
    "doa_lin2 = plt.Circle(E2, 0.5, color='r', fill = False, clip_on = False)\n",
    "doa_lin3 = plt.Circle(E3, 0.2, color='blue', fill = False, clip_on = False)\n",
    "# fig, ax = plt.subplots() # note we must use plt.subplots, not plt.subplot\n",
    "# (or if you have an existing figure)\n",
    "fig = plt.gcf()\n",
    "ax = fig.gca()\n",
    "ax.set_xlim((0, 3))\n",
    "ax.set_ylim((-1, 2))\n",
    "\n",
    "ax.add_artist(doa_ball2)\n",
    "ax.add_artist(doa_ball3)\n",
    "ax.add_artist(doa_lin2)\n",
    "ax.add_artist(doa_lin3)\n",
    "ax.set_aspect('equal')\n",
    "plt.grid()\n",
    "plt.savefig('DOA_lin.svg')\n",
    "plt.show()"
   ]
  },
  {
   "cell_type": "code",
   "execution_count": 79,
   "metadata": {},
   "outputs": [],
   "source": [
    "def Wdot(x, params, P, d):\n",
    "    fx = fs(x, *params)\n",
    "    alpha1, alpha2, beta, gamma, E = params\n",
    "#     xP = x.T@P\n",
    "#     Vx2 = xP@x\n",
    "#     Vx = sqrtm(Vx)\n",
    "#     Wx = integrate.quad(lambda tau: V(x + tau * fx), 0, d)\n",
    "# #    Wx = ( d**2/2 ) * ( (x.T @P)@fx + (fx.T @ P)@x ) + (d**3/3) * ( (fx.T@P)@fx ) + d* Vx\n",
    "#     Wx = ( d**2/2 ) * ( (x.T @P)@fx + (fx.T @ P)@x ) + (d**3/3) * ( (fx.T@P)@fx ) + d* Vx\n",
    "#     gradWx = d**2 * (P@fx) + 2*d*(P@x)\n",
    "#     Wdot = gradWx@fx\n",
    "#     xsP = xs.T@P\n",
    "#     Vx = xsP@xs\n",
    "#     Wx = ( d**2/2 ) * ( (x.T @P)@fx + (fx.T@P)@x) + (d**3/3) * ( (fx.T@P)@fx ) + d*Vx\n",
    "    gradWx0 = (alpha1 * P[0][0])/(1 + (x[1] + E[1])**beta) - 2 * P[0][0]*(x[0] + E[0])\n",
    "    gradWx0 += ( (1 + (x[0] + E[0])**gamma) * alpha2 * P[0][1] - alpha1 * P[0][1] * gamma * ((x[0] + E[0])**gamma) )/(1 + (x[0] + E[0])**gamma)**2 - P[0][1]*(x[1] + E[1])\n",
    "    gradWx0 += - 1 * P[0][1]*(x[1] + E[1])\n",
    "    gradWx0 += ( -1 * alpha2 * P[1][1]*gamma*(x[0] + E[0])**(gamma - 1) * (x[1] + E[1])) / (1 + (x[0] + E[0])**gamma)**2\n",
    "    gradWx0 = gradWx0 * d**2\n",
    "    \n",
    "    gradWx0 += (-2*P[1][1]*gamma*(alpha2**2)*(x[0] + E[0])**(gamma-1) )/(1 + (x[0] + E[0])**(gamma))**3\n",
    "    gradWx0 += (-2*P[0][0] * alpha1)/(1 + (x[1] + E[1])**beta)\n",
    "    gradWx0 += (-2*P[0][1]*alpha1*alpha2*gamma*(x[0]+E[0])**(gamma - 1)) / ( (1 + (x[1] + E[1])**beta) * (1 + (x[0] + E[0])**gamma)**2 )\n",
    "    gradWx0 += (-2*P[0][1]*alpha2*(1 + (x[0] + E[0])**gamma) + 2*P[0][1]*alpha2*gamma*(x[0] + E[0])**gamma) / ( 1 + (x[0] + E[0])**gamma)**2\n",
    "    gradWx0 += ( 2* P[1][1] * alpha2 * gamma * (x[1] + E[1]) * (x[0] + E[0])**(gamma - 1)) / (1 + (x[0] + E[0])**gamma)**2\n",
    "    gradWx0 += 2*P[0][1]*(x[1] + E[1]) + 2 * P[0][0]*(x[0]+E[0])\n",
    "    gradWx0 = gradWx0 * (d**3)/3\n",
    "    \n",
    "    gradWx0 += 2*d*(P[0][0] * (x[0] + E[0]) + P[0][1]*(x[1] + E[1]))\n",
    "    \n",
    "    gradWx1 = (alpha2 * P[1][1])/(1 + (x[0] + E[0])**gamma) - 2 * P[1][1]*(x[1] + E[1])\n",
    "    gradWx1 += ( (1 + (x[1] + E[1])**beta) * alpha1 * P[0][1] - alpha1 * P[0][1] * beta * ((x[1] + E[1])**beta) )/(1 + (x[1] + E[1])**beta)**2 - P[0][1]*(x[0] + E[0])\n",
    "    gradWx1 += - 1 * P[0][1]*(x[0] + E[0])\n",
    "    gradWx1 += ( -1 * alpha1 * P[0][0]*beta*(x[1] + E[1])**(beta - 1) * (x[0] + E[0])) / (1 + (x[1] + E[1])**beta)**2\n",
    "    gradWx1 = gradWx1 * d**2\n",
    "    \n",
    "    gradWx1 += (-2*P[0][0]*beta*(alpha1**2)*(x[1] + E[1])**(beta-1) )/(1 + (x[1] + E[1])**(beta))**3\n",
    "    gradWx1 += (-2*P[1][1] * alpha2)/(1 + (x[0] + E[0])**gamma)\n",
    "    gradWx1 += (-2*P[0][1]*alpha1*alpha2*beta*(x[1]+E[1])**(beta - 1)) / ( (1 + (x[0] + E[0])**gamma) * (1 + (x[1] + E[1])**beta)**2 )\n",
    "    gradWx1 += (-2*P[0][1]*alpha1*(1 + (x[1] + E[1])**beta) + 2*P[0][1]*alpha1*beta*(x[1] + E[1])**beta) / ( 1 + (x[1] + E[1])**beta)**2\n",
    "    gradWx1 += ( 2* P[0][0] * alpha1 * beta * (x[0] + E[0]) * (x[1] + E[1])**(beta - 1)) / (1 + (x[1] + E[1])**beta)**2\n",
    "    gradWx1 += 2*P[0][1]*(x[0] + E[0]) + 2 * P[1][1]*(x[1]+E[1])\n",
    "    gradWx1 = gradWx1 * (d**3)/3\n",
    "    \n",
    "    gradWx1 += 2*d*(P[0][1] * (x[0] + E[0]) + P[1][1]*(x[1] + E[1]))\n",
    "    \n",
    "    gradWx = np.array([gradWx0, gradWx1])\n",
    "    objective = gradWx.T@fx\n",
    "    return objective\n",
    "    \n",
    "def W(x, params, P, d):\n",
    "    fx = fs(x, *params)\n",
    "    xP = x.T@P\n",
    "    Vx = xP@x\n",
    "#     Wx = integrate.quad(lambda tau: V(x + tau * fx), 0, d)\n",
    "#     Wx = ( d**2/2 ) * ( (x.T @P)@fx + (fx.T @ P)@x ) + (d**3/3) * ( (fx.T@P)@fx ) + d* Vx\n",
    "    Wx = ( d**2/2 ) * ( (x.T @P)@fx + (fx.T @ P)@x ) + (d**3/3) * ( (fx.T@P)@fx ) + d* Vx\n",
    "    return Wx"
   ]
  },
  {
   "cell_type": "code",
   "execution_count": 80,
   "metadata": {},
   "outputs": [],
   "source": [
    "def find_DOA(eq_pt, P, d, params, unit, x_max, x_min, Cs, tol = 0.1):\n",
    "    dim = np.shape(eq_pt)[0]\n",
    "    assert unit > 0\n",
    "    assert np.shape(x_max)[0] == dim\n",
    "    assert np.shape(x_min)[0] == dim\n",
    "    x1_max = x_max[0]\n",
    "    x1_min = x_min[0]\n",
    "\n",
    "    x2_max = x_max[1]\n",
    "    x2_min = x_min[1]\n",
    "\n",
    "\n",
    "    start = eq_pt\n",
    "    x1_start = start[0]\n",
    "    x2_start = start[1]\n",
    "\n",
    "\n",
    "#     answer = np.zeros((abs(x1_max)+abs(x1_min),abs(x2_max) + abs(x2_min)))\n",
    "\n",
    "    #wdot(x, *args) is the function where x is the vector (x1, x2)\n",
    "    #unit is the step size\n",
    "\n",
    "\n",
    "#     answer[x1_start][x2_start] = 1\n",
    "    answer = {}\n",
    "    for C in Cs:\n",
    "        answer[C] = []\n",
    "        answer[C].append((x1_start, x2_start))\n",
    "        visited = [(x1_start, x2_start)]\n",
    "        while(len(visited) > 0 ):\n",
    "            (x1, x2) = visited.pop()\n",
    "            if x1 - unit >= x1_min  and Wdot(np.array([x1 - unit, x2]), params, P, d) <= 0 and W(np.array([x1 - unit, x2]), params, P, d) <= C and W(np.array([x1 - unit, x2]), params, P, d) >= C - tol:\n",
    "                if not (x1 - unit, x2) in answer[C]:\n",
    "                    visited.append((x1-unit, x2))\n",
    "                    answer[C].append((x1 - unit,x2))\n",
    "\n",
    "            if x1 + unit <= x1_max  and Wdot(np.array([x1 + unit , x2]), params, P, d) <= 0 and W(np.array([x1 + unit, x2]), params, P, d) <= C and W(np.array([x1 + unit, x2]), params, P, d) >= C - tol:\n",
    "                if not (x1 + unit, x2) in answer[C]:\n",
    "                    visited.append((x1+unit, x2))\n",
    "                    answer[C].append((x1 + unit,x2))\n",
    "\n",
    "            if x2 - unit >= x2_min  and Wdot(np.array([x1, x2 - unit]), params, P, d) <= 0 and W(np.array([x1, x2 - unit]), params, P, d) <= C and W(np.array([x1, x2 - unit]), params, P, d) >= C - tol:\n",
    "                if not (x1, x2 - unit) in answer[C]:\n",
    "                    visited.append((x1, x2 - unit))\n",
    "                    answer[C].append((x1,x2 - unit))\n",
    "\n",
    "            if x2 + unit <= x2_max  and Wdot(np.array([x1, x2 + unit]), params, P, d) <= 0 and W(np.array([x1, x2 + unit]), params, P, d) <= C and W(np.array([x1, x2 + unit]), params, P, d) >= C - tol:\n",
    "                if not (x1, x2+unit) in answer[C]:\n",
    "                    visited.append((x1, x2 + unit))\n",
    "                    answer[C].append((x1,x2 + unit))\n",
    "    return answer\n",
    "\n",
    "def plot_Wx(P, d, params, x_max, x_min, N, C, tol = 0.01):\n",
    "    store_ls = []\n",
    "    for x1 in np.linspace(x_min[0],x_max[0], N):\n",
    "        for x2 in np.linspace(x_min[1], x_max[1], N):\n",
    "            if W(np.array([x1, x2]), params, P, d) <= C and W(np.array([x1, x2]), params, P, d) >= C - tol:\n",
    "#             if W(np.array([x1, x2]), params, P, d) <= C:\n",
    "                if Wdot(np.array([x1, x2]), params, P, d) <= 0:\n",
    "                    store_ls.append([x1,x2])\n",
    "                    continue\n",
    "    for i in range(len(store_ls)):\n",
    "        plt.plot(store_ls[i][0], store_ls[i][1], 'ro')\n",
    "    plt.scatter(params[-1][0], params[-1][1], s= 50, marker = '*')\n",
    "    plt.scatter(E1[0], E1[1], s= 50, marker = 'o')\n",
    "    plt.title('C = {0}'.format(C))\n",
    "    plt.show()\n",
    "    plt.close()"
   ]
  },
  {
   "cell_type": "code",
   "execution_count": 81,
   "metadata": {},
   "outputs": [],
   "source": [
    "%matplotlib inline\n",
    "import matplotlib.pyplot as plt\n",
    "from matplotlib.colors import Normalize   \n",
    "def plot_DOA(eq_pt, P, d, params, step, x_max, x_min, Cs, tol, **kwargs):\n",
    "    plot_show = kwargs.get('plot_show')\n",
    "    if not kwargs.get('plot_show'):\n",
    "        plot_show = True\n",
    "        \n",
    "    xmax, ymax, xmin, ymin = tuple(x_max+x_min)\n",
    "    start = eq_pt\n",
    "    answer = find_DOA(start, P, d, params, step, x_max, x_min, Cs, tol)\n",
    "    if plot_show:\n",
    "        for key,value in answer.items():\n",
    "            C = key\n",
    "            x_list = [coord[0] for coord in answer[C]]\n",
    "            y_list = [coord[1] for coord in answer[C]]\n",
    "            if len(x_list) <= 1 and len(y_list) <= 1:\n",
    "                continue\n",
    "            plt.figure()\n",
    "            for x,y in zip(x_list, y_list):\n",
    "                plt.plot(x,y, 'k')\n",
    "#                 plt.scatter(x,y)\n",
    "            plt.title('C = {0}'.format(C))\n",
    "            plt.grid()\n",
    "            plt.scatter(start[0], start[1], s = 50, marker = '*')\n",
    "            plt.scatter(E1[0], E1[0], s = 25, c = 'y', marker = 'o')\n",
    "            plt.show()\n",
    "            plt.close()\n",
    "    return answer\n"
   ]
  },
  {
   "cell_type": "code",
   "execution_count": 88,
   "metadata": {},
   "outputs": [],
   "source": [
    "# answer = find_DOA(E3, P3, 0.2, params, 0.1, x_max,x_min, np.linspace(0,0.5,10), tol = 0.1)\n",
    "x_max = [50,50]\n",
    "x_min = [-5,-5]\n",
    "# answer = find_DOA(E2, P2, d2, params2, 0.1, x_max, x_min, np.linspace(0.1,0.15,5), tol = 1)\n",
    "answer = plot_DOA(E2, P2, 2, params2, 0.01, x_max, x_min, np.linspace(0.01,1.5,10000), tol = 0.1, plot_show = True)\n",
    "# plot_DOA(E2, P2, d2, params2, 0.01, x_max, x_min, [0.07], tol = 0.1)"
   ]
  },
  {
   "cell_type": "code",
   "execution_count": 91,
   "metadata": {},
   "outputs": [
    {
     "name": "stdout",
     "output_type": "stream",
     "text": [
      "time taken = 0.0\n",
      "0.2200641152633905\n",
      "-0.9845480158115016\n"
     ]
    }
   ],
   "source": [
    "import time\n",
    "start_time = time.time()\n",
    "Wxx = W(np.array([1.5,2]), params2, P2, d2)\n",
    "Wdotx = Wdot(np.array([1.5,2]), params2, P2, d2)\n",
    "end_time = time.time()\n",
    "print('time taken = {0}'.format(end_time-start_time))\n",
    "print(Wxx)\n",
    "print(Wdotx)"
   ]
  },
  {
   "cell_type": "code",
   "execution_count": 80,
   "metadata": {},
   "outputs": [
    {
     "data": {
      "image/png": "[encoded data removed]",
      "text/plain": [
       "<Figure size 432x288 with 1 Axes>"
      ]
     },
     "metadata": {},
     "output_type": "display_data"
    }
   ],
   "source": [
    "for x1,x2 in zip(np.linspace(-100,100,100),np.linspace(-100,100,100)):\n",
    "    plt.plot(x1, W(np.array([x1,x2]), params2, P2, d2), 'ro')\n",
    "plt.show()"
   ]
  },
  {
   "cell_type": "code",
   "execution_count": 139,
   "metadata": {},
   "outputs": [
    {
     "data": {
      "image/png": "[encoded data removed]",
      "text/plain": [
       "<Figure size 432x288 with 1 Axes>"
      ]
     },
     "metadata": {},
     "output_type": "display_data"
    }
   ],
   "source": [
    "x_max = [5,5]\n",
    "x_min = [-5,-5]\n",
    "plot_Wx(P3, 1.2, params3, x_max, x_min, 1000, 0.08, tol = 0.01)"
   ]
  },
  {
   "cell_type": "code",
   "execution_count": 44,
   "metadata": {},
   "outputs": [
    {
     "data": {
      "image/png": "[encoded data removed]",
      "text/plain": [
       "<Figure size 432x288 with 1 Axes>"
      ]
     },
     "metadata": {},
     "output_type": "display_data"
    }
   ],
   "source": [
    "listi = answer[0.16343434343434343]\n",
    "for t in listi:\n",
    "    plt.plot(t[0], t[1],'ro')"
   ]
  },
  {
   "cell_type": "code",
   "execution_count": 45,
   "metadata": {},
   "outputs": [
    {
     "data": {
      "text/plain": [
       "array([1.29959444, 0.06782925])"
      ]
     },
     "execution_count": 45,
     "metadata": {},
     "output_type": "execute_result"
    }
   ],
   "source": [
    "E2"
   ]
  },
  {
   "cell_type": "code",
   "execution_count": 41,
   "metadata": {},
   "outputs": [],
   "source": [
    "from sympy import Symbol\n",
    "x0 = Symbol('x0')\n",
    "x1 = Symbol('x1')\n",
    "x = np.array([x0, x1])\n",
    "fx0 =  alpha1/(1 + (x[1] + E2[1])**beta) - (x[0] + E2[0])\n",
    "fx1 = alpha2/(1 + (x[0] + E2[0])**gamma) - (x[1] + E2[1])\n",
    "fx = np.array([fx0, fx1])\n",
    "xP = x.T@P2\n",
    "Vx = xP@x\n",
    "Wx = ( d2**2/2 ) * ( (x.T @P2)@fx + (fx.T @ P2)@x ) + (d2**3/3) * ( (fx.T@P2)@fx ) + d2* Vx\n",
    "gradWx0 = Wx.diff(x[0])\n",
    "gradWx1 = Wx.diff(x[1])\n",
    "gradWx = np.array([gradWx0, gradWx1])"
   ]
  },
  {
   "cell_type": "code",
   "execution_count": null,
   "metadata": {},
   "outputs": [],
   "source": [
    "import cvxpy as cp\n",
    "import numpy as np\n",
    "\n",
    "# Problem data.\n",
    "m = 30\n",
    "n = 20\n",
    "np.random.seed(1)\n",
    "A = np.random.randn(m, n)\n",
    "b = np.random.randn(m)\n",
    "\n",
    "# Construct the problem.\n",
    "x = cp.Variable(n)\n",
    "objective = cp.Minimize(cp.sum_squares(A*x - b))\n",
    "constraints = [0 <= x, x <= 1]\n",
    "prob = cp.Problem(objective, constraints)\n",
    "\n",
    "# The optimal objective value is returned by `prob.solve()`.\n",
    "result = prob.solve()\n",
    "# The optimal value for x is stored in `x.value`.\n",
    "print(x.value)\n",
    "# The optimal Lagrange multiplier for a constraint is stored in\n",
    "# `constraint.dual_value`.\n",
    "print(constraints[0].dual_value)"
   ]
  },
  {
   "cell_type": "code",
   "execution_count": null,
   "metadata": {},
   "outputs": [],
   "source": [
    "P = np.identity(2)\n",
    "x= cp.Variable(2)\n",
    "xP = x.T@P\n",
    "Vx = xP@x\n",
    "Vx"
   ]
  },
  {
   "cell_type": "code",
   "execution_count": null,
   "metadata": {},
   "outputs": [],
   "source": [
    "# a < b and Wdot(a) and Wdot(b) opposite sign\n",
    "a = [0,0]\n",
    "b = [100,100]\n",
    "\n",
    "tol_w = 0.1\n",
    "Nmax = 100\n",
    "for i in range(Nmax): # limit iterations to prevent infinite loop\n",
    "    c = (a + b)/2 # new midpoint\n",
    "    if Wdot(c) <= 0 and (b – a)/2 < tol_w: # solution found\n",
    "        Copt = c\n",
    "        break\n",
    "    elif Wdot(c) <= 0:\n",
    "        stpoints.append(c)\n",
    "    if np.sign(Wdot(c)) == np.sign(Wdot(a)):\n",
    "        a = c \n",
    "    else:\n",
    "        b = c # new interval\n"
   ]
  },
  {
   "cell_type": "code",
   "execution_count": null,
   "metadata": {},
   "outputs": [],
   "source": [
    "# Toggle switch model\n",
    "def ff(x,*args):\n",
    "    y = np.zeros(4)\n",
    "    alpha1, alpha2, beta, gamma = args \n",
    "    mt_dot = alpha1/(1 + x[3]**beta) - x[0]\n",
    "    ml_dot = alpha2/(1 + x[2]**gamma) - x[1]\n",
    "    pt_dot = x[0] - x[2]\n",
    "    pl_dot = x[1] - x[3]\n",
    "    y = [mt_dot, ml_dot, pt_dot, pl_dot]\n",
    "    return y\n",
    "\n",
    "\n",
    "from scipy.optimize import fsolve\n",
    "# Parameters\n",
    "alpha1 = 1.3\n",
    "alpha2 = 1\n",
    "beta = 3\n",
    "gamma = 10\n",
    "\n",
    "params = tuple([alpha1, alpha2, beta, gamma])\n",
    "# Find equilibrium points (two stable, one unstable) E_i\n",
    "x0 = [0, 0, 0, 0]\n",
    "E1f = fsolve(ff, x0, args = params)\n",
    "print('Unstable equilibrium is {0}'.format(E1f))\n",
    "x0 = [100, 0, 10, 0]\n",
    "E2f = fsolve(ff, x0, args = params)\n",
    "print('Stable equilibrium #1 is {0}'.format(E2f))\n",
    "x0 = [0, 100, 0, 10]\n",
    "E3f = fsolve(ff, x0, args = params)\n",
    "print('Stable equilibrium #2 is {0}'.format(E3f))"
   ]
  },
  {
   "cell_type": "code",
   "execution_count": null,
   "metadata": {},
   "outputs": [],
   "source": [
    "\n",
    "# Look at the maximum value of Wdot such that W < C for a given C. Do this for many different Cs and choose \n",
    "# largest C for which the max obtained earlier was still negative. \n",
    "import cvxpy as cp\n",
    "# Choose C\n",
    "Cs = np.linspace(0,10,10)\n",
    "maxC = 0\n",
    "import scipy.integrate as integrate\n",
    "for C in Cs:\n",
    "    x = Xs \n",
    "    alpha1, alpha2, beta, gamma = list(params)\n",
    "    pt_dot =  alpha1/(1 + x[1]**beta) - x[0]\n",
    "    pl_dot = alpha2/(1 + x[0]**gamma) - x[1]\n",
    "    fx = np.array([pt_dot, pl_dot])\n",
    "    xP = x.T@P\n",
    "    Vx = xP@x\n",
    "#     Wx = integrate.quad(lambda tau: V(x + tau * fx), 0, d)\n",
    "#     Wx = ( d**2/2 ) * ( (x.T @P)@fx + (fx.T @ P)@x ) + (d**3/3) * ( (fx.T@P)@fx ) + d* Vx\n",
    "    vect = np.array([x[0], x[1]])\n",
    "    Wx = ( d**2/2 ) * ( (vect.T @P)@fx + (fx.T @ P)@vect ) + (d**3/3) * ( (fx.T@P)@fx ) + d* Vx\n",
    "    gradWx = d**2 * (P@fx) + 2*d* (P@vect)\n",
    "#     Wdot = gradWx@fx\n",
    "    objective = cp.Maximize(gradWx.T@fx)\n",
    "    constraints = [Wx <= C]\n",
    "    prob = cp.Problem(objective, constraints)\n",
    "    result = prob.solve()\n",
    "    # Record maximum value obtained if it is negative\n",
    "    if result <= 0:\n",
    "        if C >= maxC:\n",
    "            maxC = C\n",
    "            \n",
    "print('The maximum C obtained is {0}'.format(maxC))\n",
    "  \n",
    "# Plot DOA in 2D"
   ]
  },
  {
   "cell_type": "code",
   "execution_count": null,
   "metadata": {},
   "outputs": [],
   "source": [
    "# sphinx_gallery_thumbnail_number = 3\n",
    "import numpy as np\n",
    "import matplotlib.pyplot as plt\n",
    "from matplotlib.colors import Normalize\n",
    "\n",
    "\n",
    "def normal_pdf(x, mean, var):\n",
    "    return np.exp(-(x - mean)**2 / (2*var))\n",
    "\n",
    "\n",
    "# Generate the space in which the blobs will live\n",
    "xmin, xmax, ymin, ymax = (0, 100, 0, 100)\n",
    "n_bins = 100\n",
    "xx = np.linspace(xmin, xmax, n_bins)\n",
    "yy = np.linspace(ymin, ymax, n_bins)\n",
    "\n",
    "# Generate the blobs. The range of the values is roughly -.0002 to .0002\n",
    "means_high = [20, 50]\n",
    "means_low = [50, 60]\n",
    "var = [150, 200]\n",
    "\n",
    "gauss_x_high = normal_pdf(xx, means_high[0], var[0])\n",
    "gauss_y_high = normal_pdf(yy, means_high[1], var[0])\n",
    "\n",
    "gauss_x_low = normal_pdf(xx, means_low[0], var[1])\n",
    "gauss_y_low = normal_pdf(yy, means_low[1], var[1])\n",
    "\n",
    "weights_high = np.array(np.meshgrid(gauss_x_high, gauss_y_high)).prod(0)\n",
    "weights_low = -1 * np.array(np.meshgrid(gauss_x_low, gauss_y_low)).prod(0)\n",
    "weights = weights_high + weights_low\n",
    "\n",
    "# We'll also create a grey background into which the pixels will fade\n",
    "greys = np.full((*weights.shape, 3), 70, dtype=np.uint8)\n",
    "\n",
    "# First we'll plot these blobs using only ``imshow``.\n",
    "vmax = np.abs(weights).max()\n",
    "vmin = -vmax\n",
    "cmap = plt.cm.RdYlBu\n",
    "\n",
    "fig, ax = plt.subplots()\n",
    "ax.imshow(greys)\n",
    "ax.imshow(weights, extent=(xmin, xmax, ymin, ymax), cmap=cmap)\n",
    "ax.set_axis_off()\n"
   ]
  },
  {
   "cell_type": "code",
   "execution_count": null,
   "metadata": {},
   "outputs": [],
   "source": [
    "np.shape(weights)"
   ]
  },
  {
   "cell_type": "code",
   "execution_count": null,
   "metadata": {},
   "outputs": [],
   "source": [
    "for C in np.linspace(0,1,100):\n",
    "    if Wx(x, params, P, d) <= C + tol and Wx(x, params, P, d) >= C - tol:\n",
    "        "
   ]
  },
  {
   "cell_type": "code",
   "execution_count": 39,
   "metadata": {},
   "outputs": [
    {
     "data": {
      "text/plain": [
       "-0.017931955810285657"
      ]
     },
     "execution_count": 39,
     "metadata": {},
     "output_type": "execute_result"
    }
   ],
   "source": [
    "(-beta * alpha1 * E2[1]**(beta-1) ) / ((1 + E2[1]**beta)**2)"
   ]
  },
  {
   "cell_type": "code",
   "execution_count": 44,
   "metadata": {},
   "outputs": [
    {
     "data": {
      "text/plain": [
       "1.0057157679747168"
      ]
     },
     "execution_count": 44,
     "metadata": {},
     "output_type": "execute_result"
    }
   ],
   "source": [
    "norm(sqrtm(P2)@np.exp(4.1*A2)@inv(sqrtm(P2)), 2)"
   ]
  },
  {
   "cell_type": "code",
   "execution_count": 45,
   "metadata": {},
   "outputs": [
    {
     "data": {
      "text/plain": [
       "0.045359706698375336"
      ]
     },
     "execution_count": 45,
     "metadata": {},
     "output_type": "execute_result"
    }
   ],
   "source": [
    "np.exp(muA2*4.1)"
   ]
  },
  {
   "cell_type": "code",
   "execution_count": 55,
   "metadata": {},
   "outputs": [],
   "source": [
    "wp = sqrtm(P2)@A2@inv(sqrtm(P2))\n",
    "mx = (1/2) * ( wp + wp.T )\n",
    "mx2 = (1/2) * ( A2 + A2.T )"
   ]
  },
  {
   "cell_type": "code",
   "execution_count": 60,
   "metadata": {},
   "outputs": [
    {
     "data": {
      "text/plain": [
       "0.3257393677216734"
      ]
     },
     "execution_count": 60,
     "metadata": {},
     "output_type": "execute_result"
    }
   ],
   "source": [
    "\n",
    "np.exp(1.5*np.max(eig(mx2)[0]))"
   ]
  },
  {
   "cell_type": "code",
   "execution_count": 63,
   "metadata": {},
   "outputs": [
    {
     "data": {
      "text/plain": [
       "0.32336000069002113"
      ]
     },
     "execution_count": 63,
     "metadata": {},
     "output_type": "execute_result"
    }
   ],
   "source": [
    "from scipy.linalg import expm\n",
    "norm(expm(1.5*A2), 2)"
   ]
  },
  {
   "cell_type": "code",
   "execution_count": 113,
   "metadata": {},
   "outputs": [],
   "source": [
    "wp = sqrtm(P2)@expm(10*A2)@inv(sqrtm(P2))"
   ]
  },
  {
   "cell_type": "code",
   "execution_count": 114,
   "metadata": {},
   "outputs": [
    {
     "data": {
      "text/plain": [
       "0.0001951122567378723"
      ]
     },
     "execution_count": 114,
     "metadata": {},
     "output_type": "execute_result"
    }
   ],
   "source": [
    "np.max(eig((1/2) * (wp + wp.T))[0])"
   ]
  },
  {
   "cell_type": "code",
   "execution_count": 177,
   "metadata": {},
   "outputs": [
    {
     "ename": "NameError",
     "evalue": "name 'x' is not defined",
     "output_type": "error",
     "traceback": [
      "\u001b[1;31m---------------------------------------------------------------------------\u001b[0m",
      "\u001b[1;31mNameError\u001b[0m                                 Traceback (most recent call last)",
      "\u001b[1;32m<ipython-input-177-6fcf9dfbd479>\u001b[0m in \u001b[0;36m<module>\u001b[1;34m()\u001b[0m\n\u001b[1;32m----> 1\u001b[1;33m \u001b[0mx\u001b[0m\u001b[1;33m\u001b[0m\u001b[0m\n\u001b[0m",
      "\u001b[1;31mNameError\u001b[0m: name 'x' is not defined"
     ]
    }
   ],
   "source": [
    "x"
   ]
  },
  {
   "cell_type": "code",
   "execution_count": 111,
   "metadata": {},
   "outputs": [
    {
     "data": {
      "text/plain": [
       "array([[ 0.90994594, -0.00108413],\n",
       "       [-0.04218631,  0.89980784]])"
      ]
     },
     "execution_count": 111,
     "metadata": {},
     "output_type": "execute_result"
    }
   ],
   "source": [
    "np.matmul(sqrtm(P2), np.matmul(expm(0.1*A2), inv(sqrtm(P2))))"
   ]
  },
  {
   "cell_type": "code",
   "execution_count": 176,
   "metadata": {},
   "outputs": [
    {
     "ename": "NameError",
     "evalue": "name 'V' is not defined",
     "output_type": "error",
     "traceback": [
      "\u001b[1;31m---------------------------------------------------------------------------\u001b[0m",
      "\u001b[1;31mNameError\u001b[0m                                 Traceback (most recent call last)",
      "\u001b[1;32m<ipython-input-176-9bec35b48f54>\u001b[0m in \u001b[0;36m<module>\u001b[1;34m()\u001b[0m\n\u001b[0;32m      1\u001b[0m \u001b[1;32mfrom\u001b[0m \u001b[0mscipy\u001b[0m \u001b[1;32mimport\u001b[0m \u001b[0mintegrate\u001b[0m\u001b[1;33m\u001b[0m\u001b[0m\n\u001b[1;32m----> 2\u001b[1;33m \u001b[0mWx\u001b[0m \u001b[1;33m=\u001b[0m \u001b[0mintegrate\u001b[0m\u001b[1;33m.\u001b[0m\u001b[0mquad\u001b[0m\u001b[1;33m(\u001b[0m\u001b[1;32mlambda\u001b[0m \u001b[0mtau\u001b[0m\u001b[1;33m:\u001b[0m \u001b[0mV\u001b[0m\u001b[1;33m(\u001b[0m\u001b[0mx\u001b[0m \u001b[1;33m+\u001b[0m \u001b[0mtau\u001b[0m \u001b[1;33m*\u001b[0m \u001b[0mfx\u001b[0m\u001b[1;33m)\u001b[0m\u001b[1;33m,\u001b[0m \u001b[1;36m0\u001b[0m\u001b[1;33m,\u001b[0m \u001b[1;36m0.5\u001b[0m\u001b[1;33m)\u001b[0m\u001b[1;33m\u001b[0m\u001b[0m\n\u001b[0m",
      "\u001b[1;32mc:\\users\\apand\\appdata\\local\\programs\\python\\python36\\lib\\site-packages\\scipy\\integrate\\quadpack.py\u001b[0m in \u001b[0;36mquad\u001b[1;34m(func, a, b, args, full_output, epsabs, epsrel, limit, points, weight, wvar, wopts, maxp1, limlst)\u001b[0m\n\u001b[0;32m    339\u001b[0m     \u001b[1;32mif\u001b[0m \u001b[0mweight\u001b[0m \u001b[1;32mis\u001b[0m \u001b[1;32mNone\u001b[0m\u001b[1;33m:\u001b[0m\u001b[1;33m\u001b[0m\u001b[0m\n\u001b[0;32m    340\u001b[0m         retval = _quad(func, a, b, args, full_output, epsabs, epsrel, limit,\n\u001b[1;32m--> 341\u001b[1;33m                        points)\n\u001b[0m\u001b[0;32m    342\u001b[0m     \u001b[1;32melse\u001b[0m\u001b[1;33m:\u001b[0m\u001b[1;33m\u001b[0m\u001b[0m\n\u001b[0;32m    343\u001b[0m         retval = _quad_weight(func, a, b, args, full_output, epsabs, epsrel,\n",
      "\u001b[1;32mc:\\users\\apand\\appdata\\local\\programs\\python\\python36\\lib\\site-packages\\scipy\\integrate\\quadpack.py\u001b[0m in \u001b[0;36m_quad\u001b[1;34m(func, a, b, args, full_output, epsabs, epsrel, limit, points)\u001b[0m\n\u001b[0;32m    446\u001b[0m     \u001b[1;32mif\u001b[0m \u001b[0mpoints\u001b[0m \u001b[1;32mis\u001b[0m \u001b[1;32mNone\u001b[0m\u001b[1;33m:\u001b[0m\u001b[1;33m\u001b[0m\u001b[0m\n\u001b[0;32m    447\u001b[0m         \u001b[1;32mif\u001b[0m \u001b[0minfbounds\u001b[0m \u001b[1;33m==\u001b[0m \u001b[1;36m0\u001b[0m\u001b[1;33m:\u001b[0m\u001b[1;33m\u001b[0m\u001b[0m\n\u001b[1;32m--> 448\u001b[1;33m             \u001b[1;32mreturn\u001b[0m \u001b[0m_quadpack\u001b[0m\u001b[1;33m.\u001b[0m\u001b[0m_qagse\u001b[0m\u001b[1;33m(\u001b[0m\u001b[0mfunc\u001b[0m\u001b[1;33m,\u001b[0m\u001b[0ma\u001b[0m\u001b[1;33m,\u001b[0m\u001b[0mb\u001b[0m\u001b[1;33m,\u001b[0m\u001b[0margs\u001b[0m\u001b[1;33m,\u001b[0m\u001b[0mfull_output\u001b[0m\u001b[1;33m,\u001b[0m\u001b[0mepsabs\u001b[0m\u001b[1;33m,\u001b[0m\u001b[0mepsrel\u001b[0m\u001b[1;33m,\u001b[0m\u001b[0mlimit\u001b[0m\u001b[1;33m)\u001b[0m\u001b[1;33m\u001b[0m\u001b[0m\n\u001b[0m\u001b[0;32m    449\u001b[0m         \u001b[1;32melse\u001b[0m\u001b[1;33m:\u001b[0m\u001b[1;33m\u001b[0m\u001b[0m\n\u001b[0;32m    450\u001b[0m             \u001b[1;32mreturn\u001b[0m \u001b[0m_quadpack\u001b[0m\u001b[1;33m.\u001b[0m\u001b[0m_qagie\u001b[0m\u001b[1;33m(\u001b[0m\u001b[0mfunc\u001b[0m\u001b[1;33m,\u001b[0m\u001b[0mbound\u001b[0m\u001b[1;33m,\u001b[0m\u001b[0minfbounds\u001b[0m\u001b[1;33m,\u001b[0m\u001b[0margs\u001b[0m\u001b[1;33m,\u001b[0m\u001b[0mfull_output\u001b[0m\u001b[1;33m,\u001b[0m\u001b[0mepsabs\u001b[0m\u001b[1;33m,\u001b[0m\u001b[0mepsrel\u001b[0m\u001b[1;33m,\u001b[0m\u001b[0mlimit\u001b[0m\u001b[1;33m)\u001b[0m\u001b[1;33m\u001b[0m\u001b[0m\n",
      "\u001b[1;32m<ipython-input-176-9bec35b48f54>\u001b[0m in \u001b[0;36m<lambda>\u001b[1;34m(tau)\u001b[0m\n\u001b[0;32m      1\u001b[0m \u001b[1;32mfrom\u001b[0m \u001b[0mscipy\u001b[0m \u001b[1;32mimport\u001b[0m \u001b[0mintegrate\u001b[0m\u001b[1;33m\u001b[0m\u001b[0m\n\u001b[1;32m----> 2\u001b[1;33m \u001b[0mWx\u001b[0m \u001b[1;33m=\u001b[0m \u001b[0mintegrate\u001b[0m\u001b[1;33m.\u001b[0m\u001b[0mquad\u001b[0m\u001b[1;33m(\u001b[0m\u001b[1;32mlambda\u001b[0m \u001b[0mtau\u001b[0m\u001b[1;33m:\u001b[0m \u001b[0mV\u001b[0m\u001b[1;33m(\u001b[0m\u001b[0mx\u001b[0m \u001b[1;33m+\u001b[0m \u001b[0mtau\u001b[0m \u001b[1;33m*\u001b[0m \u001b[0mfx\u001b[0m\u001b[1;33m)\u001b[0m\u001b[1;33m,\u001b[0m \u001b[1;36m0\u001b[0m\u001b[1;33m,\u001b[0m \u001b[1;36m0.5\u001b[0m\u001b[1;33m)\u001b[0m\u001b[1;33m\u001b[0m\u001b[0m\n\u001b[0m",
      "\u001b[1;31mNameError\u001b[0m: name 'V' is not defined"
     ]
    }
   ],
   "source": [
    "from scipy import integrate\n",
    "\n",
    "xP = x.T@P\n",
    "Vx2 = xP@x\n",
    "Vx = sqrtm(Vx)\n",
    "Wx = integrate.quad(lambda tau: V(x + tau * fx), 0, 0.5)"
   ]
  },
  {
   "cell_type": "code",
   "execution_count": 69,
   "metadata": {},
   "outputs": [
    {
     "data": {
      "text/plain": [
       "1.2233009265359878"
      ]
     },
     "execution_count": 69,
     "metadata": {},
     "output_type": "execute_result"
    }
   ],
   "source": [
    "Ax = np.array([ [-1, 1], [0, -2]])\n",
    "norm(expm(0.1*Ax))"
   ]
  },
  {
   "cell_type": "code",
   "execution_count": 22,
   "metadata": {},
   "outputs": [
    {
     "data": {
      "text/plain": [
       "0.9048374180359595"
      ]
     },
     "execution_count": 22,
     "metadata": {},
     "output_type": "execute_result"
    }
   ],
   "source": [
    "np.exp(0.1*np.max(eig((1/2)*(Ax + Ax.T))[0]))"
   ]
  },
  {
   "cell_type": "code",
   "execution_count": 27,
   "metadata": {},
   "outputs": [
    {
     "data": {
      "text/plain": [
       "(-1.007669164151776-0.5905409667684447j)"
      ]
     },
     "execution_count": 27,
     "metadata": {},
     "output_type": "execute_result"
    }
   ],
   "source": [
    "P = np.array([[-10, 25],[2,6]])\n",
    "weighted_mu(Ax,P )"
   ]
  },
  {
   "cell_type": "code",
   "execution_count": null,
   "metadata": {},
   "outputs": [],
   "source": []
  }
 ],
 "metadata": {
  "kernelspec": {
   "display_name": "Python 3",
   "language": "python",
   "name": "python3"
  },
  "language_info": {
   "codemirror_mode": {
    "name": "ipython",
    "version": 3
   },
   "file_extension": ".py",
   "mimetype": "text/x-python",
   "name": "python",
   "nbconvert_exporter": "python",
   "pygments_lexer": "ipython3",
   "version": "3.6.5"
  }
 },
 "nbformat": 4,
 "nbformat_minor": 2
}
